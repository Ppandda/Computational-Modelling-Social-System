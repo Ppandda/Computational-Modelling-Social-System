{
 "cells": [
  {
   "cell_type": "markdown",
   "id": "bd6ac496",
   "metadata": {},
   "source": [
    "# Eurovision 2022 (Draft Notebook)\n",
    "\n",
    "\n",
    "## Potential Research Questions\n",
    "\n",
    "1. Are Jury Voters less affected by Cultural Influences in Eurovision ?\n",
    "    * How can we characterize the influence of culture in voting?\n",
    "\n",
    "\n",
    "## Plan\n",
    "\n",
    "### 1. Pre-Analysis or Exploratory Data Analysis\n",
    "\n",
    "Worth doing again, with newer data.\n",
    "\n",
    "1. Basically, redo figure 7 from the paper with the newest data\n",
    "\n",
    "## 2. Agent-Based Models\n",
    "\n",
    "1. Null Model\n",
    "2. Model 1\n",
    "3. Cultural Affinity Model\n",
    "   a. Cultural Affinity Model part 2\n",
    "\n",
    "\n",
    "## 3. Find Best Fit\n",
    "\n",
    "1. Kolmogorov-Smirnov test\n",
    "2. Hypothesis: Simulated and Empirical FoF come from the same distribution.\n",
    "    3. This was rejected in the original paper\n",
    "    \n",
    "    \n",
    "### Further Work\n",
    "1. Consider doing section 5\n",
    "2. Ambitious: Section 6\n",
    "\n",
    "\n",
    "Suggestion: Focus on the ABMs as opposed to fully recreating the full paper (K-S tests etc.) \n",
    "Also try various things:  subsets of networks.  what happens if you take away a node etc etc.  Give extra weight to Ukraine itself?"
   ]
  },
  {
   "cell_type": "code",
   "execution_count": 1,
   "id": "000338fa",
   "metadata": {
    "pycharm": {
     "name": "#%%\n"
    }
   },
   "outputs": [],
   "source": [
    "import pandas as pd\n",
    "import numpy as np\n",
    "import plotly.express as px\n",
    "import networkx as nx\n",
    "import matplotlib.pyplot as plt\n",
    "from mesa import Model, Agent\n",
    "from mesa.time import RandomActivation\n",
    "#import pyvis.network as pyvisnetwork\n",
    "from mesa.space import NetworkGrid\n",
    "from mesa.datacollection import DataCollector\n",
    "\n",
    "\n",
    "from scipy.stats import rankdata\n",
    "from scipy.stats import ks_2samp"
   ]
  },
  {
   "cell_type": "markdown",
   "id": "6341876e",
   "metadata": {},
   "source": [
    "# 1. Exploratory Data Analysis\n",
    "\n",
    "First, we load the data for the various years and then visualize the network for a given year"
   ]
  },
  {
   "cell_type": "code",
   "execution_count": 2,
   "id": "95c3642b",
   "metadata": {
    "pycharm": {
     "name": "#%%\n"
    }
   },
   "outputs": [
    {
     "data": {
      "text/html": [
       "<div>\n",
       "<style scoped>\n",
       "    .dataframe tbody tr th:only-of-type {\n",
       "        vertical-align: middle;\n",
       "    }\n",
       "\n",
       "    .dataframe tbody tr th {\n",
       "        vertical-align: top;\n",
       "    }\n",
       "\n",
       "    .dataframe thead th {\n",
       "        text-align: right;\n",
       "    }\n",
       "</style>\n",
       "<table border=\"1\" class=\"dataframe\">\n",
       "  <thead>\n",
       "    <tr style=\"text-align: right;\">\n",
       "      <th></th>\n",
       "      <th>Unnamed: 0.1</th>\n",
       "      <th>Unnamed: 0</th>\n",
       "      <th>Year</th>\n",
       "      <th>(semi-) final</th>\n",
       "      <th>Edition</th>\n",
       "      <th>Jury or Televoting</th>\n",
       "      <th>From country</th>\n",
       "      <th>To country</th>\n",
       "      <th>Points</th>\n",
       "      <th>Duplicate</th>\n",
       "    </tr>\n",
       "  </thead>\n",
       "  <tbody>\n",
       "    <tr>\n",
       "      <th>0</th>\n",
       "      <td>0</td>\n",
       "      <td>0</td>\n",
       "      <td>1975</td>\n",
       "      <td>f</td>\n",
       "      <td>1975f</td>\n",
       "      <td>J</td>\n",
       "      <td>Belgium</td>\n",
       "      <td>Belgium</td>\n",
       "      <td>0</td>\n",
       "      <td>x</td>\n",
       "    </tr>\n",
       "    <tr>\n",
       "      <th>1</th>\n",
       "      <td>1</td>\n",
       "      <td>1</td>\n",
       "      <td>1975</td>\n",
       "      <td>f</td>\n",
       "      <td>1975f</td>\n",
       "      <td>J</td>\n",
       "      <td>Belgium</td>\n",
       "      <td>Finland</td>\n",
       "      <td>0</td>\n",
       "      <td>NaN</td>\n",
       "    </tr>\n",
       "    <tr>\n",
       "      <th>2</th>\n",
       "      <td>2</td>\n",
       "      <td>2</td>\n",
       "      <td>1975</td>\n",
       "      <td>f</td>\n",
       "      <td>1975f</td>\n",
       "      <td>J</td>\n",
       "      <td>Belgium</td>\n",
       "      <td>France</td>\n",
       "      <td>2</td>\n",
       "      <td>NaN</td>\n",
       "    </tr>\n",
       "    <tr>\n",
       "      <th>3</th>\n",
       "      <td>3</td>\n",
       "      <td>3</td>\n",
       "      <td>1975</td>\n",
       "      <td>f</td>\n",
       "      <td>1975f</td>\n",
       "      <td>J</td>\n",
       "      <td>Belgium</td>\n",
       "      <td>Germany</td>\n",
       "      <td>0</td>\n",
       "      <td>NaN</td>\n",
       "    </tr>\n",
       "    <tr>\n",
       "      <th>4</th>\n",
       "      <td>4</td>\n",
       "      <td>4</td>\n",
       "      <td>1975</td>\n",
       "      <td>f</td>\n",
       "      <td>1975f</td>\n",
       "      <td>J</td>\n",
       "      <td>Belgium</td>\n",
       "      <td>Ireland</td>\n",
       "      <td>12</td>\n",
       "      <td>NaN</td>\n",
       "    </tr>\n",
       "    <tr>\n",
       "      <th>...</th>\n",
       "      <td>...</td>\n",
       "      <td>...</td>\n",
       "      <td>...</td>\n",
       "      <td>...</td>\n",
       "      <td>...</td>\n",
       "      <td>...</td>\n",
       "      <td>...</td>\n",
       "      <td>...</td>\n",
       "      <td>...</td>\n",
       "      <td>...</td>\n",
       "    </tr>\n",
       "    <tr>\n",
       "      <th>56307</th>\n",
       "      <td>56307</td>\n",
       "      <td>56307</td>\n",
       "      <td>2022</td>\n",
       "      <td>f</td>\n",
       "      <td>2022f</td>\n",
       "      <td>T</td>\n",
       "      <td>United Kingdom</td>\n",
       "      <td>Serbia</td>\n",
       "      <td>1</td>\n",
       "      <td>NaN</td>\n",
       "    </tr>\n",
       "    <tr>\n",
       "      <th>56308</th>\n",
       "      <td>56308</td>\n",
       "      <td>56308</td>\n",
       "      <td>2022</td>\n",
       "      <td>f</td>\n",
       "      <td>2022f</td>\n",
       "      <td>T</td>\n",
       "      <td>United Kingdom</td>\n",
       "      <td>Spain</td>\n",
       "      <td>5</td>\n",
       "      <td>NaN</td>\n",
       "    </tr>\n",
       "    <tr>\n",
       "      <th>56309</th>\n",
       "      <td>56309</td>\n",
       "      <td>56309</td>\n",
       "      <td>2022</td>\n",
       "      <td>f</td>\n",
       "      <td>2022f</td>\n",
       "      <td>T</td>\n",
       "      <td>United Kingdom</td>\n",
       "      <td>Sweden</td>\n",
       "      <td>4</td>\n",
       "      <td>NaN</td>\n",
       "    </tr>\n",
       "    <tr>\n",
       "      <th>56310</th>\n",
       "      <td>56310</td>\n",
       "      <td>56310</td>\n",
       "      <td>2022</td>\n",
       "      <td>f</td>\n",
       "      <td>2022f</td>\n",
       "      <td>T</td>\n",
       "      <td>United Kingdom</td>\n",
       "      <td>Switzerland</td>\n",
       "      <td>0</td>\n",
       "      <td>NaN</td>\n",
       "    </tr>\n",
       "    <tr>\n",
       "      <th>56311</th>\n",
       "      <td>56311</td>\n",
       "      <td>56311</td>\n",
       "      <td>2022</td>\n",
       "      <td>f</td>\n",
       "      <td>2022f</td>\n",
       "      <td>T</td>\n",
       "      <td>United Kingdom</td>\n",
       "      <td>Ukraine</td>\n",
       "      <td>12</td>\n",
       "      <td>NaN</td>\n",
       "    </tr>\n",
       "  </tbody>\n",
       "</table>\n",
       "<p>56312 rows × 10 columns</p>\n",
       "</div>"
      ],
      "text/plain": [
       "       Unnamed: 0.1  Unnamed: 0  Year (semi-) final Edition  \\\n",
       "0                 0           0  1975             f   1975f   \n",
       "1                 1           1  1975             f   1975f   \n",
       "2                 2           2  1975             f   1975f   \n",
       "3                 3           3  1975             f   1975f   \n",
       "4                 4           4  1975             f   1975f   \n",
       "...             ...         ...   ...           ...     ...   \n",
       "56307         56307       56307  2022             f   2022f   \n",
       "56308         56308       56308  2022             f   2022f   \n",
       "56309         56309       56309  2022             f   2022f   \n",
       "56310         56310       56310  2022             f   2022f   \n",
       "56311         56311       56311  2022             f   2022f   \n",
       "\n",
       "      Jury or Televoting    From country   To country  Points       Duplicate  \n",
       "0                      J         Belgium      Belgium             0         x  \n",
       "1                      J         Belgium      Finland             0       NaN  \n",
       "2                      J         Belgium       France             2       NaN  \n",
       "3                      J         Belgium      Germany             0       NaN  \n",
       "4                      J         Belgium      Ireland            12       NaN  \n",
       "...                  ...             ...          ...           ...       ...  \n",
       "56307                  T  United Kingdom       Serbia             1       NaN  \n",
       "56308                  T  United Kingdom        Spain             5       NaN  \n",
       "56309                  T  United Kingdom       Sweden             4       NaN  \n",
       "56310                  T  United Kingdom  Switzerland             0       NaN  \n",
       "56311                  T  United Kingdom      Ukraine            12       NaN  \n",
       "\n",
       "[56312 rows x 10 columns]"
      ]
     },
     "execution_count": 2,
     "metadata": {},
     "output_type": "execute_result"
    }
   ],
   "source": [
    "#df = pd.read_excel('https://query.data.world/s/cuokq5sbbqlogvjrdwdeacvp367xnq')\n",
    "df = pd.read_csv(\"data/dataworld.csv\")\n",
    "df"
   ]
  },
  {
   "cell_type": "code",
   "execution_count": 3,
   "id": "2563735f",
   "metadata": {
    "pycharm": {
     "name": "#%%\n"
    }
   },
   "outputs": [],
   "source": [
    "df.rename(columns=lambda x: x.strip(), inplace=True)\n",
    "df.rename(columns={\n",
    "    \"(semi-) final\": \"semi_or_final\",\n",
    "    \"Jury or Televoting\": \"jury_or_televoting\",\n",
    "    \"From country\": \"from\",\n",
    "    \"To country\": \"to\",\n",
    "    \"Points\": \"points\"\n",
    "}, inplace=True)"
   ]
  },
  {
   "cell_type": "code",
   "execution_count": 4,
   "id": "c9bd7b33",
   "metadata": {
    "pycharm": {
     "name": "#%%\n"
    }
   },
   "outputs": [
    {
     "data": {
      "text/html": [
       "<div>\n",
       "<style scoped>\n",
       "    .dataframe tbody tr th:only-of-type {\n",
       "        vertical-align: middle;\n",
       "    }\n",
       "\n",
       "    .dataframe tbody tr th {\n",
       "        vertical-align: top;\n",
       "    }\n",
       "\n",
       "    .dataframe thead th {\n",
       "        text-align: right;\n",
       "    }\n",
       "</style>\n",
       "<table border=\"1\" class=\"dataframe\">\n",
       "  <thead>\n",
       "    <tr style=\"text-align: right;\">\n",
       "      <th></th>\n",
       "      <th>Unnamed: 0.1</th>\n",
       "      <th>Unnamed: 0</th>\n",
       "      <th>Year</th>\n",
       "      <th>semi_or_final</th>\n",
       "      <th>Edition</th>\n",
       "      <th>jury_or_televoting</th>\n",
       "      <th>from</th>\n",
       "      <th>to</th>\n",
       "      <th>points</th>\n",
       "      <th>Duplicate</th>\n",
       "    </tr>\n",
       "  </thead>\n",
       "  <tbody>\n",
       "    <tr>\n",
       "      <th>36352</th>\n",
       "      <td>36352</td>\n",
       "      <td>36352</td>\n",
       "      <td>2016</td>\n",
       "      <td>f</td>\n",
       "      <td>2016f</td>\n",
       "      <td>T</td>\n",
       "      <td>Albania</td>\n",
       "      <td>Armenia</td>\n",
       "      <td>2</td>\n",
       "      <td>NaN</td>\n",
       "    </tr>\n",
       "    <tr>\n",
       "      <th>36353</th>\n",
       "      <td>36353</td>\n",
       "      <td>36353</td>\n",
       "      <td>2016</td>\n",
       "      <td>f</td>\n",
       "      <td>2016f</td>\n",
       "      <td>T</td>\n",
       "      <td>Albania</td>\n",
       "      <td>Australia</td>\n",
       "      <td>12</td>\n",
       "      <td>NaN</td>\n",
       "    </tr>\n",
       "    <tr>\n",
       "      <th>36354</th>\n",
       "      <td>36354</td>\n",
       "      <td>36354</td>\n",
       "      <td>2016</td>\n",
       "      <td>f</td>\n",
       "      <td>2016f</td>\n",
       "      <td>T</td>\n",
       "      <td>Albania</td>\n",
       "      <td>Austria</td>\n",
       "      <td>0</td>\n",
       "      <td>NaN</td>\n",
       "    </tr>\n",
       "    <tr>\n",
       "      <th>36355</th>\n",
       "      <td>36355</td>\n",
       "      <td>36355</td>\n",
       "      <td>2016</td>\n",
       "      <td>f</td>\n",
       "      <td>2016f</td>\n",
       "      <td>T</td>\n",
       "      <td>Albania</td>\n",
       "      <td>Azerbaijan</td>\n",
       "      <td>0</td>\n",
       "      <td>NaN</td>\n",
       "    </tr>\n",
       "    <tr>\n",
       "      <th>36356</th>\n",
       "      <td>36356</td>\n",
       "      <td>36356</td>\n",
       "      <td>2016</td>\n",
       "      <td>f</td>\n",
       "      <td>2016f</td>\n",
       "      <td>T</td>\n",
       "      <td>Albania</td>\n",
       "      <td>Belgium</td>\n",
       "      <td>0</td>\n",
       "      <td>NaN</td>\n",
       "    </tr>\n",
       "    <tr>\n",
       "      <th>...</th>\n",
       "      <td>...</td>\n",
       "      <td>...</td>\n",
       "      <td>...</td>\n",
       "      <td>...</td>\n",
       "      <td>...</td>\n",
       "      <td>...</td>\n",
       "      <td>...</td>\n",
       "      <td>...</td>\n",
       "      <td>...</td>\n",
       "      <td>...</td>\n",
       "    </tr>\n",
       "    <tr>\n",
       "      <th>56307</th>\n",
       "      <td>56307</td>\n",
       "      <td>56307</td>\n",
       "      <td>2022</td>\n",
       "      <td>f</td>\n",
       "      <td>2022f</td>\n",
       "      <td>T</td>\n",
       "      <td>United Kingdom</td>\n",
       "      <td>Serbia</td>\n",
       "      <td>1</td>\n",
       "      <td>NaN</td>\n",
       "    </tr>\n",
       "    <tr>\n",
       "      <th>56308</th>\n",
       "      <td>56308</td>\n",
       "      <td>56308</td>\n",
       "      <td>2022</td>\n",
       "      <td>f</td>\n",
       "      <td>2022f</td>\n",
       "      <td>T</td>\n",
       "      <td>United Kingdom</td>\n",
       "      <td>Spain</td>\n",
       "      <td>5</td>\n",
       "      <td>NaN</td>\n",
       "    </tr>\n",
       "    <tr>\n",
       "      <th>56309</th>\n",
       "      <td>56309</td>\n",
       "      <td>56309</td>\n",
       "      <td>2022</td>\n",
       "      <td>f</td>\n",
       "      <td>2022f</td>\n",
       "      <td>T</td>\n",
       "      <td>United Kingdom</td>\n",
       "      <td>Sweden</td>\n",
       "      <td>4</td>\n",
       "      <td>NaN</td>\n",
       "    </tr>\n",
       "    <tr>\n",
       "      <th>56310</th>\n",
       "      <td>56310</td>\n",
       "      <td>56310</td>\n",
       "      <td>2022</td>\n",
       "      <td>f</td>\n",
       "      <td>2022f</td>\n",
       "      <td>T</td>\n",
       "      <td>United Kingdom</td>\n",
       "      <td>Switzerland</td>\n",
       "      <td>0</td>\n",
       "      <td>NaN</td>\n",
       "    </tr>\n",
       "    <tr>\n",
       "      <th>56311</th>\n",
       "      <td>56311</td>\n",
       "      <td>56311</td>\n",
       "      <td>2022</td>\n",
       "      <td>f</td>\n",
       "      <td>2022f</td>\n",
       "      <td>T</td>\n",
       "      <td>United Kingdom</td>\n",
       "      <td>Ukraine</td>\n",
       "      <td>12</td>\n",
       "      <td>NaN</td>\n",
       "    </tr>\n",
       "  </tbody>\n",
       "</table>\n",
       "<p>6281 rows × 10 columns</p>\n",
       "</div>"
      ],
      "text/plain": [
       "       Unnamed: 0.1  Unnamed: 0  Year semi_or_final Edition  \\\n",
       "36352         36352       36352  2016             f   2016f   \n",
       "36353         36353       36353  2016             f   2016f   \n",
       "36354         36354       36354  2016             f   2016f   \n",
       "36355         36355       36355  2016             f   2016f   \n",
       "36356         36356       36356  2016             f   2016f   \n",
       "...             ...         ...   ...           ...     ...   \n",
       "56307         56307       56307  2022             f   2022f   \n",
       "56308         56308       56308  2022             f   2022f   \n",
       "56309         56309       56309  2022             f   2022f   \n",
       "56310         56310       56310  2022             f   2022f   \n",
       "56311         56311       56311  2022             f   2022f   \n",
       "\n",
       "      jury_or_televoting            from           to  points Duplicate  \n",
       "36352                  T         Albania      Armenia       2       NaN  \n",
       "36353                  T         Albania    Australia      12       NaN  \n",
       "36354                  T         Albania      Austria       0       NaN  \n",
       "36355                  T         Albania   Azerbaijan       0       NaN  \n",
       "36356                  T         Albania      Belgium       0       NaN  \n",
       "...                  ...             ...          ...     ...       ...  \n",
       "56307                  T  United Kingdom       Serbia       1       NaN  \n",
       "56308                  T  United Kingdom        Spain       5       NaN  \n",
       "56309                  T  United Kingdom       Sweden       4       NaN  \n",
       "56310                  T  United Kingdom  Switzerland       0       NaN  \n",
       "56311                  T  United Kingdom      Ukraine      12       NaN  \n",
       "\n",
       "[6281 rows x 10 columns]"
      ]
     },
     "metadata": {},
     "output_type": "display_data"
    },
    {
     "data": {
      "text/html": [
       "<div>\n",
       "<style scoped>\n",
       "    .dataframe tbody tr th:only-of-type {\n",
       "        vertical-align: middle;\n",
       "    }\n",
       "\n",
       "    .dataframe tbody tr th {\n",
       "        vertical-align: top;\n",
       "    }\n",
       "\n",
       "    .dataframe thead th {\n",
       "        text-align: right;\n",
       "    }\n",
       "</style>\n",
       "<table border=\"1\" class=\"dataframe\">\n",
       "  <thead>\n",
       "    <tr style=\"text-align: right;\">\n",
       "      <th></th>\n",
       "      <th>Unnamed: 0.1</th>\n",
       "      <th>Unnamed: 0</th>\n",
       "      <th>Year</th>\n",
       "      <th>semi_or_final</th>\n",
       "      <th>Edition</th>\n",
       "      <th>jury_or_televoting</th>\n",
       "      <th>from</th>\n",
       "      <th>to</th>\n",
       "      <th>points</th>\n",
       "      <th>Duplicate</th>\n",
       "    </tr>\n",
       "  </thead>\n",
       "  <tbody>\n",
       "    <tr>\n",
       "      <th>0</th>\n",
       "      <td>0</td>\n",
       "      <td>0</td>\n",
       "      <td>1975</td>\n",
       "      <td>f</td>\n",
       "      <td>1975f</td>\n",
       "      <td>J</td>\n",
       "      <td>Belgium</td>\n",
       "      <td>Belgium</td>\n",
       "      <td>0</td>\n",
       "      <td>x</td>\n",
       "    </tr>\n",
       "    <tr>\n",
       "      <th>1</th>\n",
       "      <td>1</td>\n",
       "      <td>1</td>\n",
       "      <td>1975</td>\n",
       "      <td>f</td>\n",
       "      <td>1975f</td>\n",
       "      <td>J</td>\n",
       "      <td>Belgium</td>\n",
       "      <td>Finland</td>\n",
       "      <td>0</td>\n",
       "      <td>NaN</td>\n",
       "    </tr>\n",
       "    <tr>\n",
       "      <th>2</th>\n",
       "      <td>2</td>\n",
       "      <td>2</td>\n",
       "      <td>1975</td>\n",
       "      <td>f</td>\n",
       "      <td>1975f</td>\n",
       "      <td>J</td>\n",
       "      <td>Belgium</td>\n",
       "      <td>France</td>\n",
       "      <td>2</td>\n",
       "      <td>NaN</td>\n",
       "    </tr>\n",
       "    <tr>\n",
       "      <th>3</th>\n",
       "      <td>3</td>\n",
       "      <td>3</td>\n",
       "      <td>1975</td>\n",
       "      <td>f</td>\n",
       "      <td>1975f</td>\n",
       "      <td>J</td>\n",
       "      <td>Belgium</td>\n",
       "      <td>Germany</td>\n",
       "      <td>0</td>\n",
       "      <td>NaN</td>\n",
       "    </tr>\n",
       "    <tr>\n",
       "      <th>4</th>\n",
       "      <td>4</td>\n",
       "      <td>4</td>\n",
       "      <td>1975</td>\n",
       "      <td>f</td>\n",
       "      <td>1975f</td>\n",
       "      <td>J</td>\n",
       "      <td>Belgium</td>\n",
       "      <td>Ireland</td>\n",
       "      <td>12</td>\n",
       "      <td>NaN</td>\n",
       "    </tr>\n",
       "    <tr>\n",
       "      <th>...</th>\n",
       "      <td>...</td>\n",
       "      <td>...</td>\n",
       "      <td>...</td>\n",
       "      <td>...</td>\n",
       "      <td>...</td>\n",
       "      <td>...</td>\n",
       "      <td>...</td>\n",
       "      <td>...</td>\n",
       "      <td>...</td>\n",
       "      <td>...</td>\n",
       "    </tr>\n",
       "    <tr>\n",
       "      <th>56283</th>\n",
       "      <td>56283</td>\n",
       "      <td>56283</td>\n",
       "      <td>2022</td>\n",
       "      <td>f</td>\n",
       "      <td>2022f</td>\n",
       "      <td>J</td>\n",
       "      <td>United Kingdom</td>\n",
       "      <td>Serbia</td>\n",
       "      <td>1</td>\n",
       "      <td>NaN</td>\n",
       "    </tr>\n",
       "    <tr>\n",
       "      <th>56284</th>\n",
       "      <td>56284</td>\n",
       "      <td>56284</td>\n",
       "      <td>2022</td>\n",
       "      <td>f</td>\n",
       "      <td>2022f</td>\n",
       "      <td>J</td>\n",
       "      <td>United Kingdom</td>\n",
       "      <td>Spain</td>\n",
       "      <td>10</td>\n",
       "      <td>NaN</td>\n",
       "    </tr>\n",
       "    <tr>\n",
       "      <th>56285</th>\n",
       "      <td>56285</td>\n",
       "      <td>56285</td>\n",
       "      <td>2022</td>\n",
       "      <td>f</td>\n",
       "      <td>2022f</td>\n",
       "      <td>J</td>\n",
       "      <td>United Kingdom</td>\n",
       "      <td>Sweden</td>\n",
       "      <td>12</td>\n",
       "      <td>NaN</td>\n",
       "    </tr>\n",
       "    <tr>\n",
       "      <th>56286</th>\n",
       "      <td>56286</td>\n",
       "      <td>56286</td>\n",
       "      <td>2022</td>\n",
       "      <td>f</td>\n",
       "      <td>2022f</td>\n",
       "      <td>J</td>\n",
       "      <td>United Kingdom</td>\n",
       "      <td>Switzerland</td>\n",
       "      <td>2</td>\n",
       "      <td>NaN</td>\n",
       "    </tr>\n",
       "    <tr>\n",
       "      <th>56287</th>\n",
       "      <td>56287</td>\n",
       "      <td>56287</td>\n",
       "      <td>2022</td>\n",
       "      <td>f</td>\n",
       "      <td>2022f</td>\n",
       "      <td>J</td>\n",
       "      <td>United Kingdom</td>\n",
       "      <td>Ukraine</td>\n",
       "      <td>0</td>\n",
       "      <td>NaN</td>\n",
       "    </tr>\n",
       "  </tbody>\n",
       "</table>\n",
       "<p>32024 rows × 10 columns</p>\n",
       "</div>"
      ],
      "text/plain": [
       "       Unnamed: 0.1  Unnamed: 0  Year semi_or_final Edition  \\\n",
       "0                 0           0  1975             f   1975f   \n",
       "1                 1           1  1975             f   1975f   \n",
       "2                 2           2  1975             f   1975f   \n",
       "3                 3           3  1975             f   1975f   \n",
       "4                 4           4  1975             f   1975f   \n",
       "...             ...         ...   ...           ...     ...   \n",
       "56283         56283       56283  2022             f   2022f   \n",
       "56284         56284       56284  2022             f   2022f   \n",
       "56285         56285       56285  2022             f   2022f   \n",
       "56286         56286       56286  2022             f   2022f   \n",
       "56287         56287       56287  2022             f   2022f   \n",
       "\n",
       "      jury_or_televoting            from           to  points Duplicate  \n",
       "0                      J         Belgium      Belgium       0         x  \n",
       "1                      J         Belgium      Finland       0       NaN  \n",
       "2                      J         Belgium       France       2       NaN  \n",
       "3                      J         Belgium      Germany       0       NaN  \n",
       "4                      J         Belgium      Ireland      12       NaN  \n",
       "...                  ...             ...          ...     ...       ...  \n",
       "56283                  J  United Kingdom       Serbia       1       NaN  \n",
       "56284                  J  United Kingdom        Spain      10       NaN  \n",
       "56285                  J  United Kingdom       Sweden      12       NaN  \n",
       "56286                  J  United Kingdom  Switzerland       2       NaN  \n",
       "56287                  J  United Kingdom      Ukraine       0       NaN  \n",
       "\n",
       "[32024 rows x 10 columns]"
      ]
     },
     "metadata": {},
     "output_type": "display_data"
    }
   ],
   "source": [
    "df_finals = df[df[\"semi_or_final\"] == 'f']\n",
    "df_finals_televoting = df_finals[df_finals[\"jury_or_televoting\"] == \"T\"]\n",
    "df_finals_jury = df_finals[df_finals[\"jury_or_televoting\"] == \"J\"]\n",
    "\n",
    "\n",
    "display(df_finals_televoting)\n",
    "display(df_finals_jury)"
   ]
  },
  {
   "cell_type": "markdown",
   "id": "0a88bcd0",
   "metadata": {},
   "source": [
    "Let's visualize!"
   ]
  },
  {
   "cell_type": "markdown",
   "id": "138d2882",
   "metadata": {},
   "source": [
    "# Agent Based Modelling"
   ]
  },
  {
   "cell_type": "code",
   "execution_count": 5,
   "id": "3fee1e6c",
   "metadata": {
    "pycharm": {
     "name": "#%%\n"
    }
   },
   "outputs": [],
   "source": [
    "SCORES = np.array([12, 10, 8, 7, 6, 5, 4, 3, 2, 1])\n",
    "alpha = 0.1"
   ]
  },
  {
   "cell_type": "code",
   "execution_count": 6,
   "id": "00f00e3f",
   "metadata": {
    "pycharm": {
     "name": "#%%\n"
    }
   },
   "outputs": [],
   "source": [
    "def calc_All_FoF(df, from_country, points_column = \"points\", FoF_column = \"FoF\"):\n",
    "    Voter_selector = df[\"from\"] == from_country\n",
    "\n",
    "    voting_countries_2022 = df[\"from\"].unique()\n",
    "\n",
    "\n",
    "    N = len(voting_countries_2022)\n",
    "    \n",
    "    for to_country in df[\"to\"].unique():\n",
    "        Candidate_selector = df[\"to\"] == to_country\n",
    "\n",
    "        final_score = sum(df.loc[Candidate_selector, points_column])\n",
    "\n",
    "        points = df.loc[Voter_selector & Candidate_selector, points_column]\n",
    "\n",
    "        df.loc[Voter_selector & Candidate_selector, FoF_column ] =  ( points / 12 ) - ( ( final_score - points )/( 12*(N-2) ) )"
   ]
  },
  {
   "cell_type": "markdown",
   "id": "82690a39",
   "metadata": {},
   "source": [
    "## Null Model\n",
    "\n",
    "In this null model, countries freely vote for other countries.  The only restriction is that they can assign only a fixed amount of points"
   ]
  },
  {
   "cell_type": "code",
   "execution_count": 7,
   "id": "13d1f3fe",
   "metadata": {
    "pycharm": {
     "name": "#%%\n"
    }
   },
   "outputs": [],
   "source": [
    "class NullVotingAgent(Agent):\n",
    "    \n",
    "    def __init__(self, unique_id, model, df):\n",
    "        '''\n",
    "         Create a new Null Voting Agent (A \"country\")\n",
    "\n",
    "         Args:\n",
    "            unique_id: Unique identifier for the agent (A country name)\n",
    "        '''\n",
    "        \n",
    "        super().__init__(unique_id, model)\n",
    "        \n",
    "        self.df = df\n",
    "        \n",
    "        \n",
    "    def step(self):\n",
    "        '''\n",
    "        Run one step of the agent.\n",
    "        '''\n",
    "        \n",
    "        #print(f\"Country {self.unique_id} is now voting\")\n",
    "        \n",
    "        country_row_selector = self.df[\"from\"] == self.unique_id\n",
    "\n",
    "        fit = np.random.uniform(0, 1, size=len( self.df[country_row_selector] ))\n",
    "\n",
    "        points_given = 58 * (fit/sum(fit))\n",
    "        \n",
    "        #print(f\"{voting_country=}, {points_given=}\")\n",
    "        self.df.loc[country_row_selector, \"null_model_points\"] += points_given"
   ]
  },
  {
   "cell_type": "code",
   "execution_count": 8,
   "id": "a507528d",
   "metadata": {
    "pycharm": {
     "name": "#%%\n"
    }
   },
   "outputs": [],
   "source": [
    "def get_null_model_ks(model):\n",
    "    \n",
    "    data1 = model.df[\"FoF\"]\n",
    "    data2 = model.df[\"null_model_FoF\"]\n",
    "    \n",
    "    return ks_2samp(data1, data2)\n",
    "\n",
    "class NullVotingModel(Model):\n",
    "    \n",
    "    def __init__(self, jury_or_televoting, year):\n",
    "        '''\n",
    "        Create a new NullVotingModel model.\n",
    "\n",
    "         Args:\n",
    "            jury_or_televoting: a string with values  \n",
    "                * J: Jury\n",
    "                * T: Televoting\n",
    "            year: year of competition\n",
    "        '''\n",
    "        \n",
    "        super().__init__()\n",
    "        \n",
    "        df_finals_type = df_finals[df_finals[\"jury_or_televoting\"] == jury_or_televoting]\n",
    "        df_finals_televoting_year = df_finals_type[df_finals_type[\"Year\"]==year].copy()\n",
    "\n",
    "        self.df = df_finals_televoting_year\n",
    "        \n",
    "        self.datacollector = DataCollector(\n",
    "            model_reporters={\"ks\": get_null_model_ks}\n",
    "        )\n",
    "        \n",
    "        self.schedule = RandomActivation(self)\n",
    "        \n",
    "        \n",
    "        self.df[\"null_model_points\"] = 0\n",
    "        self.df[\"FoF\"] = 0\n",
    "        self.df[\"null_model_FoF\"] = 0\n",
    "\n",
    "        voting_countries = self.df[\"from\"].unique()\n",
    "\n",
    "        for voting_country in voting_countries:\n",
    "            country_row_selector = self.df[\"from\"] == voting_country\n",
    "            the_agent = NullVotingAgent(voting_country, self, self.df)\n",
    "            self.schedule.add(the_agent)\n",
    "            \n",
    "\n",
    "    def step(self):\n",
    "        '''\n",
    "        Run one step of the model. If All agents are happy, halt the model.\n",
    "        '''\n",
    "        \n",
    "        \n",
    "        self.schedule.step()\n",
    "        \n",
    "        #print(\"Going to start calc all the FoF\")\n",
    "        for voting_country in self.df[\"from\"].unique():\n",
    "            calc_All_FoF(self.df, voting_country, 'points', \"FoF\")        \n",
    "            calc_All_FoF(self.df, voting_country, 'null_model_points', \"null_model_FoF\")\n",
    "            \n",
    "        self.datacollector.collect(self)"
   ]
  },
  {
   "cell_type": "markdown",
   "id": "c72b107f",
   "metadata": {},
   "source": [
    "## Model1 ABM\n",
    "This model also gives points at random, but follows the rules of the contest"
   ]
  },
  {
   "cell_type": "code",
   "execution_count": 9,
   "id": "3cec79ba",
   "metadata": {
    "pycharm": {
     "name": "#%%\n"
    }
   },
   "outputs": [],
   "source": [
    "class Model1Agent(Agent):\n",
    "    \n",
    "    def __init__(self, unique_id, model, df):\n",
    "        '''\n",
    "         Create a new Model 1 Voting Agent (A \"country\")\n",
    "\n",
    "         Args:\n",
    "            unique_id: Unique identifier for the agent (A country name)\n",
    "        '''\n",
    "        \n",
    "        super().__init__(unique_id, model)\n",
    "        self.df = df\n",
    "        \n",
    "        \n",
    "    def step(self):\n",
    "        '''\n",
    "        Run one step of the agent.\n",
    "        '''\n",
    "        \n",
    "        country_row_selector = self.df[\"from\"] == self.unique_id\n",
    "\n",
    "        fit = pd.Series( np.random.uniform(0, 1, size=len(self.df[country_row_selector])) )\n",
    "        rank = fit.rank(ascending=False)\n",
    "        points_given = rank.apply(\n",
    "            lambda x: SCORES[int(x) - 1] if x <= 10 else 0\n",
    "        )\n",
    "        \n",
    "        #print(f\"{rank=}, {voting_country=}, {type(points_given)=}\")\n",
    "        self.df.loc[country_row_selector, \"model1_points\"] += points_given.to_numpy()"
   ]
  },
  {
   "cell_type": "code",
   "execution_count": 10,
   "id": "7d38848b",
   "metadata": {
    "pycharm": {
     "name": "#%%\n"
    }
   },
   "outputs": [],
   "source": [
    "def get_model1_ks(model):\n",
    "    \n",
    "    data1 = model.df[\"FoF\"]\n",
    "    data2 = model.df[\"model1_FoF\"]\n",
    "    \n",
    "    return ks_2samp(data1, data2)\n",
    "\n",
    "\n",
    "class Model1Model(Model):\n",
    "    \n",
    "    def __init__(self, jury_or_televoting, year):\n",
    "        '''\n",
    "        Create a new NullVotingModel model.\n",
    "\n",
    "         Args:\n",
    "            jury_or_televoting: a string with values  \n",
    "                * J: Jury\n",
    "                * T: Televoting\n",
    "            year: year of competition\n",
    "        '''\n",
    "        \n",
    "        super().__init__()\n",
    "        \n",
    "        df_finals_type = df_finals[df_finals[\"jury_or_televoting\"] == jury_or_televoting]\n",
    "        df_finals_televoting_year = df_finals_type[df_finals_type[\"Year\"]==year].copy()\n",
    "\n",
    "        self.df = df_finals_televoting_year\n",
    "        \n",
    "        self.datacollector = DataCollector(\n",
    "            model_reporters={\"ks\": get_model1_ks}\n",
    "        )\n",
    "        \n",
    "        self.df[\"model1_points\"] = 0\n",
    "        \n",
    "        self.schedule = RandomActivation(self)\n",
    "        \n",
    "\n",
    "        voting_countries = self.df[\"from\"].unique()\n",
    "\n",
    "        for voting_country in voting_countries:\n",
    "            country_row_selector = self.df[\"from\"] == voting_country\n",
    "            a = Model1Agent(voting_country, self, self.df)\n",
    "            self.schedule.add(a)\n",
    "            \n",
    "\n",
    "    def step(self):\n",
    "        '''\n",
    "        Run one step of the model.\n",
    "        '''\n",
    "        \n",
    "        self.schedule.step()\n",
    "        \n",
    "        #print(\"Going to start calc all the FoF\")\n",
    "        for voting_country in self.df[\"from\"].unique():\n",
    "            calc_All_FoF(self.df, voting_country, 'points', \"FoF\")        \n",
    "            calc_All_FoF(self.df, voting_country, 'model1_points', \"model1_FoF\")\n",
    "            \n",
    "        self.datacollector.collect(self)"
   ]
  },
  {
   "cell_type": "markdown",
   "id": "2585e694",
   "metadata": {},
   "source": [
    "## Affinity Model"
   ]
  },
  {
   "cell_type": "code",
   "execution_count": 11,
   "id": "3c34025c",
   "metadata": {
    "pycharm": {
     "name": "#%%\n"
    }
   },
   "outputs": [],
   "source": [
    "class AffinityModelAgent(Agent):\n",
    "    \n",
    "    def __init__(self, unique_id, model, df, alpha, cultural_network):\n",
    "        '''\n",
    "         Create a new Model 1 Voting Agent (A \"country\")\n",
    "\n",
    "         Args:\n",
    "            unique_id: Unique identifier for the agent (A country name)\n",
    "        '''\n",
    "        \n",
    "        super().__init__(unique_id, model)\n",
    "        \n",
    "        self.df = df\n",
    "        self.cultural_network = cultural_network\n",
    "        self.alpha = alpha\n",
    "        \n",
    "    def step(self):\n",
    "        '''\n",
    "        Run one step of the agent.\n",
    "        '''\n",
    "        \n",
    "        country_row_selector = self.df[\"from\"] == self.unique_id\n",
    "        \n",
    "        def affinity_fit(row):\n",
    "            '''\n",
    "                row: a dataframe row\n",
    "            '''\n",
    "            q = float(self.df[\"relative_score\"].sample(1))\n",
    "\n",
    "            from_country = row['from']\n",
    "            to_country = row['to']\n",
    "\n",
    "\n",
    "            network_part = nx.get_edge_attributes(self.cultural_network, \"weight\")[(from_country, to_country)]\n",
    "\n",
    "            the_fit = self.alpha * q + network_part * (1 - self.alpha)\n",
    "\n",
    "            return the_fit\n",
    "\n",
    "        \n",
    "        country_df = self.df[country_row_selector]\n",
    "\n",
    "        fit = country_df.apply(\n",
    "            lambda row: affinity_fit(row), axis=1\n",
    "        )\n",
    "        #print(f\"{unique_id=}, {fit=}\")\n",
    "        rank = fit.rank(ascending=False)\n",
    "        points_given = rank.apply(\n",
    "            lambda x: SCORES[int(x) - 1] if x <= 10 else 0\n",
    "        )\n",
    "        \n",
    "        self.df.loc[country_row_selector, \"affinity_model_points\"] += points_given.to_numpy()\n"
   ]
  },
  {
   "cell_type": "code",
   "execution_count": 12,
   "id": "58bce87d",
   "metadata": {
    "pycharm": {
     "name": "#%%\n"
    }
   },
   "outputs": [],
   "source": [
    "def get_affinity_ks(model):\n",
    "    \n",
    "    data1 = model.df[\"FoF\"]\n",
    "    data2 = model.df[\"affinity_model_FoF\"]\n",
    "    \n",
    "    return ks_2samp(data1, data2)\n",
    "\n",
    "\n",
    "class AffinityModel(Model):\n",
    "    \n",
    "    def __init__(self,jury_or_televoting, year, mu, sigma, alpha):\n",
    "        '''\n",
    "        Create a new NullVotingModel model.\n",
    "\n",
    "         Args:\n",
    "        '''\n",
    "        \n",
    "        super().__init__()\n",
    "        \n",
    "        self.datacollector = DataCollector(\n",
    "            model_reporters={\"ks\": get_affinity_ks}\n",
    "        )\n",
    "\n",
    "        \n",
    "        df_finals_type = df_finals[df_finals[\"jury_or_televoting\"] == jury_or_televoting]\n",
    "        df_finals_televoting_year = df_finals_type[df_finals_type[\"Year\"]==year].copy()\n",
    "        self.df = df_finals_televoting_year\n",
    "        \n",
    "        self.df[\"affinity_model_points\"] = 0\n",
    "        \n",
    "        self.df[\"relative_score\"] = self.df[\"points\"]/sum(self.df[\"points\"])\n",
    "        \n",
    "        \n",
    "        self.cultural_network = nx.from_pandas_edgelist(\n",
    "            self.df,\n",
    "            source=\"from\",\n",
    "            target=\"to\",\n",
    "            create_using=nx.DiGraph()\n",
    "        )\n",
    "\n",
    "        self.mu = mu\n",
    "        self.sigma = sigma\n",
    "        self.alpha = alpha\n",
    "\n",
    "        dict_weight = {}\n",
    "        for edge in self.cultural_network.edges():\n",
    "            sampled_weight = np.random.normal(mu, sigma)\n",
    "            dict_weight[edge] = sampled_weight\n",
    "        nx.set_edge_attributes(self.cultural_network, values = dict_weight, name = 'weight')\n",
    "        \n",
    "        \n",
    "\n",
    "        voting_countries = self.df[\"from\"].unique()\n",
    "        \n",
    "        self.schedule = RandomActivation(self)\n",
    "\n",
    "        for voting_country in voting_countries:\n",
    "            a = AffinityModelAgent(voting_country, self, self.df, self.alpha, self.cultural_network)\n",
    "            self.schedule.add(a)\n",
    "            \n",
    "\n",
    "    def step(self):\n",
    "        '''\n",
    "        Run one step of the model.\n",
    "        '''\n",
    "        \n",
    "        self.schedule.step()\n",
    "        \n",
    "        #print(\"Going to start calc all the FoF\")\n",
    "        for voting_country in self.df[\"from\"].unique():\n",
    "            calc_All_FoF(self.df, voting_country, 'points', \"FoF\")        \n",
    "            calc_All_FoF(self.df, voting_country, 'affinity_model_points', \"affinity_model_FoF\")\n",
    "            \n",
    "        self.datacollector.collect(self)"
   ]
  },
  {
   "cell_type": "markdown",
   "id": "e4b74a05",
   "metadata": {},
   "source": [
    "# 3. Run the ABMs in a batch for various years\n",
    "\n"
   ]
  },
  {
   "cell_type": "markdown",
   "id": "39e3dae8",
   "metadata": {},
   "source": [
    "# 4. Friend-Or-Foe for the ABMS\n",
    "\n",
    "Now that we have Various models and also empirical data, we can calculate the Friend-or-Foe coefficients for each of them"
   ]
  },
  {
   "cell_type": "markdown",
   "id": "404c01f2",
   "metadata": {},
   "source": [
    "## Batch Run"
   ]
  },
  {
   "cell_type": "code",
   "execution_count": 13,
   "id": "757e4336",
   "metadata": {
    "pycharm": {
     "name": "#%%\n"
    }
   },
   "outputs": [],
   "source": [
    "params_null = {\n",
    "    \"jury_or_televoting\": [\"T\", \"J\"],\n",
    "    \"year\": [2016, 2017, 2018, 2019, 2021, 2022]    # 2020 Contest was cancelled due to COVID-19\n",
    "}"
   ]
  },
  {
   "cell_type": "code",
   "execution_count": 14,
   "id": "1fd25d74",
   "metadata": {
    "pycharm": {
     "name": "#%%\n"
    }
   },
   "outputs": [],
   "source": [
    "from mesa.batchrunner import batch_run\n",
    "\n",
    "#results = batch_run(\n",
    "#    NullVotingModel,\n",
    "#    parameters=params_null,\n",
    "#    iterations=10,\n",
    "#    max_steps=1,\n",
    "#    number_processes=None,\n",
    "#    data_collection_period=-1,\n",
    "#    display_progress=True,\n",
    "#)"
   ]
  },
  {
   "cell_type": "code",
   "execution_count": 15,
   "id": "82da540c",
   "metadata": {
    "pycharm": {
     "name": "#%%\n"
    }
   },
   "outputs": [],
   "source": [
    "#res_null = pd.DataFrame(results)\n",
    "#res_null.to_csv(\"res_null.csv\")"
   ]
  },
  {
   "cell_type": "code",
   "execution_count": 16,
   "id": "d35314b3",
   "metadata": {
    "pycharm": {
     "name": "#%%\n"
    }
   },
   "outputs": [
    {
     "data": {
      "text/html": [
       "<div>\n",
       "<style scoped>\n",
       "    .dataframe tbody tr th:only-of-type {\n",
       "        vertical-align: middle;\n",
       "    }\n",
       "\n",
       "    .dataframe tbody tr th {\n",
       "        vertical-align: top;\n",
       "    }\n",
       "\n",
       "    .dataframe thead th {\n",
       "        text-align: right;\n",
       "    }\n",
       "</style>\n",
       "<table border=\"1\" class=\"dataframe\">\n",
       "  <thead>\n",
       "    <tr style=\"text-align: right;\">\n",
       "      <th></th>\n",
       "      <th>Unnamed: 0</th>\n",
       "      <th>RunId</th>\n",
       "      <th>iteration</th>\n",
       "      <th>Step</th>\n",
       "      <th>jury_or_televoting</th>\n",
       "      <th>year</th>\n",
       "      <th>ks_statistic</th>\n",
       "      <th>ks_pval</th>\n",
       "    </tr>\n",
       "  </thead>\n",
       "  <tbody>\n",
       "    <tr>\n",
       "      <th>0</th>\n",
       "      <td>0</td>\n",
       "      <td>0</td>\n",
       "      <td>0</td>\n",
       "      <td>1</td>\n",
       "      <td>J</td>\n",
       "      <td>2022</td>\n",
       "      <td>0.212308</td>\n",
       "      <td>1.198859e-19</td>\n",
       "    </tr>\n",
       "    <tr>\n",
       "      <th>1</th>\n",
       "      <td>1</td>\n",
       "      <td>1</td>\n",
       "      <td>0</td>\n",
       "      <td>1</td>\n",
       "      <td>T</td>\n",
       "      <td>2021</td>\n",
       "      <td>0.233806</td>\n",
       "      <td>4.353690e-24</td>\n",
       "    </tr>\n",
       "    <tr>\n",
       "      <th>2</th>\n",
       "      <td>2</td>\n",
       "      <td>2</td>\n",
       "      <td>0</td>\n",
       "      <td>1</td>\n",
       "      <td>T</td>\n",
       "      <td>2022</td>\n",
       "      <td>0.214359</td>\n",
       "      <td>5.041831e-20</td>\n",
       "    </tr>\n",
       "    <tr>\n",
       "      <th>3</th>\n",
       "      <td>3</td>\n",
       "      <td>3</td>\n",
       "      <td>0</td>\n",
       "      <td>1</td>\n",
       "      <td>J</td>\n",
       "      <td>2021</td>\n",
       "      <td>0.201417</td>\n",
       "      <td>6.067134e-18</td>\n",
       "    </tr>\n",
       "    <tr>\n",
       "      <th>4</th>\n",
       "      <td>4</td>\n",
       "      <td>4</td>\n",
       "      <td>0</td>\n",
       "      <td>1</td>\n",
       "      <td>J</td>\n",
       "      <td>2019</td>\n",
       "      <td>0.191939</td>\n",
       "      <td>3.417444e-17</td>\n",
       "    </tr>\n",
       "  </tbody>\n",
       "</table>\n",
       "</div>"
      ],
      "text/plain": [
       "   Unnamed: 0  RunId  iteration  Step jury_or_televoting  year  ks_statistic  \\\n",
       "0           0      0          0     1                  J  2022      0.212308   \n",
       "1           1      1          0     1                  T  2021      0.233806   \n",
       "2           2      2          0     1                  T  2022      0.214359   \n",
       "3           3      3          0     1                  J  2021      0.201417   \n",
       "4           4      4          0     1                  J  2019      0.191939   \n",
       "\n",
       "        ks_pval  \n",
       "0  1.198859e-19  \n",
       "1  4.353690e-24  \n",
       "2  5.041831e-20  \n",
       "3  6.067134e-18  \n",
       "4  3.417444e-17  "
      ]
     },
     "metadata": {},
     "output_type": "display_data"
    }
   ],
   "source": [
    "res_null = pd.read_csv(\"res_null.csv\")\n",
    "display(res_null.head())"
   ]
  },
  {
   "cell_type": "code",
   "execution_count": 17,
   "id": "c239440f",
   "metadata": {
    "pycharm": {
     "name": "#%%\n"
    }
   },
   "outputs": [],
   "source": [
    "params_model1 = {\n",
    "    \"jury_or_televoting\":  [\"T\", \"J\"],\n",
    "    \"year\": [2016, 2017, 2018, 2019, 2021, 2022]    # 2020 Contest was cancelled due to COVID-19\n",
    "}"
   ]
  },
  {
   "cell_type": "code",
   "execution_count": 18,
   "id": "b7db16a1",
   "metadata": {
    "pycharm": {
     "name": "#%%\n"
    }
   },
   "outputs": [],
   "source": [
    "from mesa.batchrunner import batch_run\n",
    "\n",
    "#results = batch_run(\n",
    "#    Model1Model,\n",
    "#    parameters=params_model1,\n",
    "#    iterations=10,\n",
    "#    max_steps=1,\n",
    "#    number_processes=None,\n",
    "#    data_collection_period=-1,\n",
    "#    display_progress=True,\n",
    "#)"
   ]
  },
  {
   "cell_type": "code",
   "execution_count": 19,
   "id": "d3bb131d",
   "metadata": {
    "pycharm": {
     "name": "#%%\n"
    }
   },
   "outputs": [],
   "source": [
    "#res_model1 = pd.DataFrame(results)\n",
    "#res_model1.to_csv(\"res_model1.csv\")"
   ]
  },
  {
   "cell_type": "code",
   "execution_count": 20,
   "id": "1097a0fd",
   "metadata": {
    "pycharm": {
     "name": "#%%\n"
    }
   },
   "outputs": [
    {
     "data": {
      "text/html": [
       "<div>\n",
       "<style scoped>\n",
       "    .dataframe tbody tr th:only-of-type {\n",
       "        vertical-align: middle;\n",
       "    }\n",
       "\n",
       "    .dataframe tbody tr th {\n",
       "        vertical-align: top;\n",
       "    }\n",
       "\n",
       "    .dataframe thead th {\n",
       "        text-align: right;\n",
       "    }\n",
       "</style>\n",
       "<table border=\"1\" class=\"dataframe\">\n",
       "  <thead>\n",
       "    <tr style=\"text-align: right;\">\n",
       "      <th></th>\n",
       "      <th>Unnamed: 0</th>\n",
       "      <th>RunId</th>\n",
       "      <th>iteration</th>\n",
       "      <th>Step</th>\n",
       "      <th>jury_or_televoting</th>\n",
       "      <th>year</th>\n",
       "      <th>ks_statistic</th>\n",
       "      <th>ks_pval</th>\n",
       "    </tr>\n",
       "  </thead>\n",
       "  <tbody>\n",
       "    <tr>\n",
       "      <th>0</th>\n",
       "      <td>0</td>\n",
       "      <td>0</td>\n",
       "      <td>0</td>\n",
       "      <td>1</td>\n",
       "      <td>J</td>\n",
       "      <td>2022</td>\n",
       "      <td>0.320000</td>\n",
       "      <td>1.557477e-44</td>\n",
       "    </tr>\n",
       "    <tr>\n",
       "      <th>1</th>\n",
       "      <td>1</td>\n",
       "      <td>1</td>\n",
       "      <td>0</td>\n",
       "      <td>1</td>\n",
       "      <td>J</td>\n",
       "      <td>2021</td>\n",
       "      <td>0.352227</td>\n",
       "      <td>8.647577e-55</td>\n",
       "    </tr>\n",
       "    <tr>\n",
       "      <th>2</th>\n",
       "      <td>2</td>\n",
       "      <td>2</td>\n",
       "      <td>0</td>\n",
       "      <td>1</td>\n",
       "      <td>T</td>\n",
       "      <td>2021</td>\n",
       "      <td>0.371457</td>\n",
       "      <td>4.845667e-61</td>\n",
       "    </tr>\n",
       "    <tr>\n",
       "      <th>3</th>\n",
       "      <td>3</td>\n",
       "      <td>3</td>\n",
       "      <td>0</td>\n",
       "      <td>1</td>\n",
       "      <td>T</td>\n",
       "      <td>2019</td>\n",
       "      <td>0.378119</td>\n",
       "      <td>9.919007e-67</td>\n",
       "    </tr>\n",
       "    <tr>\n",
       "      <th>4</th>\n",
       "      <td>4</td>\n",
       "      <td>4</td>\n",
       "      <td>1</td>\n",
       "      <td>1</td>\n",
       "      <td>T</td>\n",
       "      <td>2019</td>\n",
       "      <td>0.386756</td>\n",
       "      <td>7.054075e-70</td>\n",
       "    </tr>\n",
       "  </tbody>\n",
       "</table>\n",
       "</div>"
      ],
      "text/plain": [
       "   Unnamed: 0  RunId  iteration  Step jury_or_televoting  year  ks_statistic  \\\n",
       "0           0      0          0     1                  J  2022      0.320000   \n",
       "1           1      1          0     1                  J  2021      0.352227   \n",
       "2           2      2          0     1                  T  2021      0.371457   \n",
       "3           3      3          0     1                  T  2019      0.378119   \n",
       "4           4      4          1     1                  T  2019      0.386756   \n",
       "\n",
       "        ks_pval  \n",
       "0  1.557477e-44  \n",
       "1  8.647577e-55  \n",
       "2  4.845667e-61  \n",
       "3  9.919007e-67  \n",
       "4  7.054075e-70  "
      ]
     },
     "metadata": {},
     "output_type": "display_data"
    }
   ],
   "source": [
    "res_model1 = pd.read_csv(\"res_model1.csv\")\n",
    "display(res_model1.head())"
   ]
  },
  {
   "cell_type": "code",
   "execution_count": 21,
   "id": "02f6a679",
   "metadata": {
    "pycharm": {
     "name": "#%%\n"
    }
   },
   "outputs": [],
   "source": [
    "params_affinity = {\n",
    "    \"jury_or_televoting\":  [\"T\", \"J\"],\n",
    "    \"year\": [2016, 2017, 2018, 2019, 2021, 2022],    # 2020 Contest was cancelled due to COVID-19\n",
    "    \"mu\": np.linspace(-0.1, 0.1, 6),\n",
    "    \"sigma\": np.linspace(0, 0.1, 6),\n",
    "    \"alpha\": np.linspace(0, 0.5, 5)\n",
    "} "
   ]
  },
  {
   "cell_type": "code",
   "execution_count": 22,
   "id": "9dd3125b",
   "metadata": {
    "pycharm": {
     "name": "#%%\n"
    }
   },
   "outputs": [
    {
     "name": "stderr",
     "output_type": "stream",
     "text": [
      "10800it [2:19:12,  1.29it/s]\n"
     ]
    }
   ],
   "source": [
    "from mesa.batchrunner import batch_run\n",
    "\n",
    "#results = batch_run(\n",
    "#    AffinityModel,\n",
    "#    parameters=params_affinity,\n",
    "#    iterations=5,\n",
    "#    max_steps=1,\n",
    "#    number_processes=None,\n",
    "#    data_collection_period=-1,\n",
    "#    display_progress=True,\n",
    "#)"
   ]
  },
  {
   "cell_type": "code",
   "execution_count": 23,
   "id": "2b9eee78",
   "metadata": {
    "pycharm": {
     "name": "#%%\n"
    }
   },
   "outputs": [],
   "source": [
    "#res_affinity = pd.DataFrame(results)\n",
    "#res_affinity.to_csv(\"res_affinity.csv\")"
   ]
  },
  {
   "cell_type": "code",
   "execution_count": 28,
   "id": "36c1e018",
   "metadata": {
    "pycharm": {
     "name": "#%%\n"
    }
   },
   "outputs": [],
   "source": [
    "res_affinity = pd.read_csv(\"res_affinity.csv\")"
   ]
  },
  {
   "cell_type": "code",
   "execution_count": 29,
   "id": "a4467434",
   "metadata": {
    "pycharm": {
     "name": "#%%\n"
    }
   },
   "outputs": [
    {
     "data": {
      "text/html": [
       "<div>\n",
       "<style scoped>\n",
       "    .dataframe tbody tr th:only-of-type {\n",
       "        vertical-align: middle;\n",
       "    }\n",
       "\n",
       "    .dataframe tbody tr th {\n",
       "        vertical-align: top;\n",
       "    }\n",
       "\n",
       "    .dataframe thead th {\n",
       "        text-align: right;\n",
       "    }\n",
       "</style>\n",
       "<table border=\"1\" class=\"dataframe\">\n",
       "  <thead>\n",
       "    <tr style=\"text-align: right;\">\n",
       "      <th></th>\n",
       "      <th>Unnamed: 0</th>\n",
       "      <th>RunId</th>\n",
       "      <th>iteration</th>\n",
       "      <th>Step</th>\n",
       "      <th>jury_or_televoting</th>\n",
       "      <th>year</th>\n",
       "      <th>mu</th>\n",
       "      <th>sigma</th>\n",
       "      <th>alpha</th>\n",
       "      <th>ks_statistic</th>\n",
       "      <th>ks_pval</th>\n",
       "    </tr>\n",
       "  </thead>\n",
       "  <tbody>\n",
       "    <tr>\n",
       "      <th>0</th>\n",
       "      <td>0</td>\n",
       "      <td>0</td>\n",
       "      <td>0</td>\n",
       "      <td>1</td>\n",
       "      <td>T</td>\n",
       "      <td>2016</td>\n",
       "      <td>-0.1</td>\n",
       "      <td>0.04</td>\n",
       "      <td>0.000</td>\n",
       "      <td>0.509381</td>\n",
       "      <td>2.627464e-126</td>\n",
       "    </tr>\n",
       "    <tr>\n",
       "      <th>1</th>\n",
       "      <td>1</td>\n",
       "      <td>1</td>\n",
       "      <td>0</td>\n",
       "      <td>1</td>\n",
       "      <td>T</td>\n",
       "      <td>2016</td>\n",
       "      <td>-0.1</td>\n",
       "      <td>0.02</td>\n",
       "      <td>0.125</td>\n",
       "      <td>0.506567</td>\n",
       "      <td>7.549503e-125</td>\n",
       "    </tr>\n",
       "    <tr>\n",
       "      <th>2</th>\n",
       "      <td>2</td>\n",
       "      <td>2</td>\n",
       "      <td>0</td>\n",
       "      <td>1</td>\n",
       "      <td>T</td>\n",
       "      <td>2016</td>\n",
       "      <td>-0.1</td>\n",
       "      <td>0.04</td>\n",
       "      <td>0.125</td>\n",
       "      <td>0.509381</td>\n",
       "      <td>2.627464e-126</td>\n",
       "    </tr>\n",
       "    <tr>\n",
       "      <th>3</th>\n",
       "      <td>3</td>\n",
       "      <td>3</td>\n",
       "      <td>0</td>\n",
       "      <td>1</td>\n",
       "      <td>T</td>\n",
       "      <td>2016</td>\n",
       "      <td>-0.1</td>\n",
       "      <td>0.00</td>\n",
       "      <td>0.000</td>\n",
       "      <td>0.694184</td>\n",
       "      <td>4.796560e-246</td>\n",
       "    </tr>\n",
       "    <tr>\n",
       "      <th>4</th>\n",
       "      <td>4</td>\n",
       "      <td>4</td>\n",
       "      <td>0</td>\n",
       "      <td>1</td>\n",
       "      <td>T</td>\n",
       "      <td>2016</td>\n",
       "      <td>-0.1</td>\n",
       "      <td>0.02</td>\n",
       "      <td>0.500</td>\n",
       "      <td>0.497186</td>\n",
       "      <td>4.658129e-120</td>\n",
       "    </tr>\n",
       "  </tbody>\n",
       "</table>\n",
       "</div>"
      ],
      "text/plain": [
       "   Unnamed: 0  RunId  iteration  Step jury_or_televoting  year   mu  sigma  \\\n",
       "0           0      0          0     1                  T  2016 -0.1   0.04   \n",
       "1           1      1          0     1                  T  2016 -0.1   0.02   \n",
       "2           2      2          0     1                  T  2016 -0.1   0.04   \n",
       "3           3      3          0     1                  T  2016 -0.1   0.00   \n",
       "4           4      4          0     1                  T  2016 -0.1   0.02   \n",
       "\n",
       "   alpha  ks_statistic        ks_pval  \n",
       "0  0.000      0.509381  2.627464e-126  \n",
       "1  0.125      0.506567  7.549503e-125  \n",
       "2  0.125      0.509381  2.627464e-126  \n",
       "3  0.000      0.694184  4.796560e-246  \n",
       "4  0.500      0.497186  4.658129e-120  "
      ]
     },
     "metadata": {},
     "output_type": "display_data"
    }
   ],
   "source": [
    "display(res_affinity.head())"
   ]
  },
  {
   "cell_type": "markdown",
   "id": "51d651a4",
   "metadata": {},
   "source": [
    "Plotting empirical and best Model FoF's"
   ]
  },
  {
   "cell_type": "code",
   "execution_count": 30,
   "id": "ded99036",
   "metadata": {
    "scrolled": false
   },
   "outputs": [
    {
     "data": {
      "image/png": "[encoded data removed]",
      "text/plain": [
       "<Figure size 432x288 with 1 Axes>"
      ]
     },
     "metadata": {
      "needs_background": "light"
     },
     "output_type": "display_data"
    },
    {
     "data": {
      "image/png": "[encoded data removed]",
      "text/plain": [
       "<Figure size 432x288 with 1 Axes>"
      ]
     },
     "metadata": {
      "needs_background": "light"
     },
     "output_type": "display_data"
    },
    {
     "data": {
      "image/png": "[encoded data removed]",
      "text/plain": [
       "<Figure size 432x288 with 1 Axes>"
      ]
     },
     "metadata": {
      "needs_background": "light"
     },
     "output_type": "display_data"
    },
    {
     "data": {
      "image/png": "[encoded data removed]",
      "text/plain": [
       "<Figure size 432x288 with 1 Axes>"
      ]
     },
     "metadata": {
      "needs_background": "light"
     },
     "output_type": "display_data"
    },
    {
     "data": {
      "image/png": "[encoded data removed]",
      "text/plain": [
       "<Figure size 432x288 with 1 Axes>"
      ]
     },
     "metadata": {
      "needs_background": "light"
     },
     "output_type": "display_data"
    },
    {
     "data": {
      "image/png": "[encoded data removed]",
      "text/plain": [
       "<Figure size 432x288 with 1 Axes>"
      ]
     },
     "metadata": {
      "needs_background": "light"
     },
     "output_type": "display_data"
    },
    {
     "data": {
      "image/png": "[encoded data removed]",
      "text/plain": [
       "<Figure size 432x288 with 1 Axes>"
      ]
     },
     "metadata": {
      "needs_background": "light"
     },
     "output_type": "display_data"
    },
    {
     "data": {
      "image/png": "[encoded data removed]",
      "text/plain": [
       "<Figure size 432x288 with 1 Axes>"
      ]
     },
     "metadata": {
      "needs_background": "light"
     },
     "output_type": "display_data"
    },
    {
     "data": {
      "image/png": "[encoded data removed]",
      "text/plain": [
       "<Figure size 432x288 with 1 Axes>"
      ]
     },
     "metadata": {
      "needs_background": "light"
     },
     "output_type": "display_data"
    },
    {
     "data": {
      "image/png": "[encoded data removed]",
      "text/plain": [
       "<Figure size 432x288 with 1 Axes>"
      ]
     },
     "metadata": {
      "needs_background": "light"
     },
     "output_type": "display_data"
    },
    {
     "data": {
      "image/png": "[encoded data removed]",
      "text/plain": [
       "<Figure size 432x288 with 1 Axes>"
      ]
     },
     "metadata": {
      "needs_background": "light"
     },
     "output_type": "display_data"
    },
    {
     "data": {
      "image/png": "[encoded data removed]",
      "text/plain": [
       "<Figure size 432x288 with 1 Axes>"
      ]
     },
     "metadata": {
      "needs_background": "light"
     },
     "output_type": "display_data"
    }
   ],
   "source": [
    "def plot_best_affinity_model(jury_or_tele, the_year):\n",
    "    \n",
    "    df_affinity_year_type = res_affinity[\n",
    "        (res_affinity[\"year\"] == the_year) & \n",
    "        (res_affinity[\"jury_or_televoting\"] == jury_or_tele)\n",
    "    ]\n",
    "    kses_year_type = df_affinity_year_type[\"ks_statistic\"]\n",
    "    \n",
    "    the_mu = df_affinity_year_type.loc[kses_year_type.idxmin()][\"mu\"]\n",
    "    the_sigma = df_affinity_year_type.loc[kses_year_type.idxmin()][\"sigma\"]\n",
    "    the_alpha = df_affinity_year_type.loc[kses_year_type.idxmin()][\"alpha\"]\n",
    "    \n",
    "    best_affinity_model = AffinityModel(\n",
    "        jury_or_televoting=jury_or_tele, \n",
    "        year=the_year, \n",
    "        mu=the_mu, \n",
    "        sigma=the_sigma, \n",
    "        alpha=the_alpha\n",
    "    )\n",
    "\n",
    "    voter_type = \"Jury Voters\" if jury_or_tele == \"J\" else \"Tele Voters\"\n",
    "\n",
    "    best_affinity_model.step()\n",
    "    ax = best_affinity_model.df[[\"FoF\", \"affinity_model_FoF\"]].plot.kde(title=f\"Year: {the_year}, {voter_type}\")\n",
    "    \n",
    "    \n",
    "    best_model1_model = Model1Model(jury_or_televoting=jury_or_tele, year=the_year)\n",
    "    best_model1_model.step()\n",
    "    best_model1_model.df[[\"model1_FoF\"]].plot.kde(ax=ax)\n",
    "    \n",
    "    \n",
    "    best_null_model = NullVotingModel(jury_or_televoting=jury_or_tele, year=the_year)\n",
    "\n",
    "    best_null_model.step()\n",
    "    best_null_model.df[[\"null_model_FoF\"]].plot.kde(ax=ax)\n",
    "    \n",
    "    \n",
    "    \n",
    "    \n",
    "\n",
    "plot_best_affinity_model(\"T\", 2016)\n",
    "plot_best_affinity_model(\"J\", 2016)\n",
    "\n",
    "\n",
    "plot_best_affinity_model(\"T\", 2017)\n",
    "plot_best_affinity_model(\"J\", 2017)\n",
    "\n",
    "\n",
    "plot_best_affinity_model(\"T\", 2018)\n",
    "plot_best_affinity_model(\"J\", 2018)\n",
    "\n",
    "\n",
    "plot_best_affinity_model(\"T\", 2019)\n",
    "plot_best_affinity_model(\"J\", 2019)\n",
    "\n",
    "\n",
    "plot_best_affinity_model(\"T\", 2021)\n",
    "plot_best_affinity_model(\"J\", 2021)\n",
    "\n",
    "\n",
    "plot_best_affinity_model(\"T\", 2022)\n",
    "plot_best_affinity_model(\"J\", 2022)"
   ]
  },
  {
   "cell_type": "markdown",
   "id": "3b52d2e1",
   "metadata": {
    "pycharm": {
     "name": "#%%\n"
    }
   },
   "source": [
    "## Influence of Culture over time\n",
    "\n",
    "Low Alpha => Higher Influence of Culture"
   ]
  },
  {
   "cell_type": "code",
   "execution_count": null,
   "id": "08bee400",
   "metadata": {},
   "outputs": [],
   "source": []
  }
 ],
 "metadata": {
  "kernelspec": {
   "display_name": "cmss",
   "language": "python",
   "name": "cmss"
  },
  "language_info": {
   "codemirror_mode": {
    "name": "ipython",
    "version": 3
   },
   "file_extension": ".py",
   "mimetype": "text/x-python",
   "name": "python",
   "nbconvert_exporter": "python",
   "pygments_lexer": "ipython3",
   "version": "3.8.13"
  }
 },
 "nbformat": 4,
 "nbformat_minor": 5
}
