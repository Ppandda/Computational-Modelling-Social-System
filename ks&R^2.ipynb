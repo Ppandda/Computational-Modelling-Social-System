{
 "cells": [
  {
   "cell_type": "markdown",
   "id": "dcdb0b6e",
   "metadata": {},
   "source": [
    "# Eurovision 2022 (Draft Notebook)\n",
    "\n",
    "\n",
    "## Potential Research Questions\n",
    "\n",
    "1. Are Jury Voters less affected by Cultural Influences in Eurovision ?\n",
    "2. [Needs to be Formulated Well] Does a sympathy-wave effect for Ukraine exist in 2022 Eurovision results?  How can we account for that?\n",
    "\n",
    "\n",
    "## Plan\n",
    "\n",
    "### 1. Pre-Analysis or Exploratory Data Analysis\n",
    "\n",
    "Worth doing again, with newer data.\n",
    "\n",
    "1. Basically, redo figure 7 from the paper with the newest data\n",
    "\n",
    "## 2. Agent-Based Models\n",
    "\n",
    "1. Null Model\n",
    "2. Model 1\n",
    "3. Cultural Affinity Model\n",
    "   a. Cultural Affinity Model part 2\n",
    "\n",
    "\n",
    "## 3. Find Best Fit\n",
    "\n",
    "1. Kolmogorov-Smirnov test\n",
    "2. Hypothesis: Simulated and Empirical FoF come from the same distribution.\n",
    "    3. This was rejected in the original paper\n",
    "    \n",
    "    \n",
    "### Further Work\n",
    "1. Consider doing section 5\n",
    "2. Ambitious: Section 6\n",
    "\n",
    "\n",
    "Suggestion: Focus on the ABMs as opposed to fully recreating the full paper (K-S tests etc.) \n",
    "Also try various things:  subsets of networks.  what happens if you take away a node etc etc.  Give extra weight to Ukraine itself?"
   ]
  },
  {
   "cell_type": "code",
   "execution_count": 9,
   "id": "ba16b020",
   "metadata": {},
   "outputs": [],
   "source": [
    "import pandas as pd\n",
    "import numpy as np\n",
    "import plotly.express as px\n",
    "import networkx as nx\n",
    "import matplotlib.pyplot as plt\n",
    "from mesa import Model, Agent\n",
    "from mesa.time import RandomActivation\n",
    "#import pyvis.network as pyvisnetwork\n",
    "from mesa.space import NetworkGrid\n",
    "from mesa.datacollection import DataCollector\n",
    "\n",
    "\n",
    "from scipy.stats import rankdata\n",
    "from scipy.stats import ks_2samp"
   ]
  },
  {
   "cell_type": "markdown",
   "id": "b7f92b47",
   "metadata": {},
   "source": [
    "# 1. Exploratory Data Analysis\n",
    "\n",
    "First, we load the data for the various years and then visualize the network for a given year"
   ]
  },
  {
   "cell_type": "code",
   "execution_count": 10,
   "id": "92f321a7",
   "metadata": {},
   "outputs": [
    {
     "data": {
      "text/plain": "       Unnamed: 0  Unnamed: 0.1  Year (semi-) final Edition  \\\n0               0             0  1975             f   1975f   \n1               1             1  1975             f   1975f   \n2               2             2  1975             f   1975f   \n3               3             3  1975             f   1975f   \n4               4             4  1975             f   1975f   \n...           ...           ...   ...           ...     ...   \n56307       56307         56307  2022             f   2022f   \n56308       56308         56308  2022             f   2022f   \n56309       56309         56309  2022             f   2022f   \n56310       56310         56310  2022             f   2022f   \n56311       56311         56311  2022             f   2022f   \n\n      Jury or Televoting    From country   To country  Points       Duplicate  \n0                      J         Belgium      Belgium             0         x  \n1                      J         Belgium      Finland             0       NaN  \n2                      J         Belgium       France             2       NaN  \n3                      J         Belgium      Germany             0       NaN  \n4                      J         Belgium      Ireland            12       NaN  \n...                  ...             ...          ...           ...       ...  \n56307                  T  United Kingdom       Serbia             1       NaN  \n56308                  T  United Kingdom        Spain             5       NaN  \n56309                  T  United Kingdom       Sweden             4       NaN  \n56310                  T  United Kingdom  Switzerland             0       NaN  \n56311                  T  United Kingdom      Ukraine            12       NaN  \n\n[56312 rows x 10 columns]",
      "text/html": "<div>\n<style scoped>\n    .dataframe tbody tr th:only-of-type {\n        vertical-align: middle;\n    }\n\n    .dataframe tbody tr th {\n        vertical-align: top;\n    }\n\n    .dataframe thead th {\n        text-align: right;\n    }\n</style>\n<table border=\"1\" class=\"dataframe\">\n  <thead>\n    <tr style=\"text-align: right;\">\n      <th></th>\n      <th>Unnamed: 0</th>\n      <th>Unnamed: 0.1</th>\n      <th>Year</th>\n      <th>(semi-) final</th>\n      <th>Edition</th>\n      <th>Jury or Televoting</th>\n      <th>From country</th>\n      <th>To country</th>\n      <th>Points</th>\n      <th>Duplicate</th>\n    </tr>\n  </thead>\n  <tbody>\n    <tr>\n      <th>0</th>\n      <td>0</td>\n      <td>0</td>\n      <td>1975</td>\n      <td>f</td>\n      <td>1975f</td>\n      <td>J</td>\n      <td>Belgium</td>\n      <td>Belgium</td>\n      <td>0</td>\n      <td>x</td>\n    </tr>\n    <tr>\n      <th>1</th>\n      <td>1</td>\n      <td>1</td>\n      <td>1975</td>\n      <td>f</td>\n      <td>1975f</td>\n      <td>J</td>\n      <td>Belgium</td>\n      <td>Finland</td>\n      <td>0</td>\n      <td>NaN</td>\n    </tr>\n    <tr>\n      <th>2</th>\n      <td>2</td>\n      <td>2</td>\n      <td>1975</td>\n      <td>f</td>\n      <td>1975f</td>\n      <td>J</td>\n      <td>Belgium</td>\n      <td>France</td>\n      <td>2</td>\n      <td>NaN</td>\n    </tr>\n    <tr>\n      <th>3</th>\n      <td>3</td>\n      <td>3</td>\n      <td>1975</td>\n      <td>f</td>\n      <td>1975f</td>\n      <td>J</td>\n      <td>Belgium</td>\n      <td>Germany</td>\n      <td>0</td>\n      <td>NaN</td>\n    </tr>\n    <tr>\n      <th>4</th>\n      <td>4</td>\n      <td>4</td>\n      <td>1975</td>\n      <td>f</td>\n      <td>1975f</td>\n      <td>J</td>\n      <td>Belgium</td>\n      <td>Ireland</td>\n      <td>12</td>\n      <td>NaN</td>\n    </tr>\n    <tr>\n      <th>...</th>\n      <td>...</td>\n      <td>...</td>\n      <td>...</td>\n      <td>...</td>\n      <td>...</td>\n      <td>...</td>\n      <td>...</td>\n      <td>...</td>\n      <td>...</td>\n      <td>...</td>\n    </tr>\n    <tr>\n      <th>56307</th>\n      <td>56307</td>\n      <td>56307</td>\n      <td>2022</td>\n      <td>f</td>\n      <td>2022f</td>\n      <td>T</td>\n      <td>United Kingdom</td>\n      <td>Serbia</td>\n      <td>1</td>\n      <td>NaN</td>\n    </tr>\n    <tr>\n      <th>56308</th>\n      <td>56308</td>\n      <td>56308</td>\n      <td>2022</td>\n      <td>f</td>\n      <td>2022f</td>\n      <td>T</td>\n      <td>United Kingdom</td>\n      <td>Spain</td>\n      <td>5</td>\n      <td>NaN</td>\n    </tr>\n    <tr>\n      <th>56309</th>\n      <td>56309</td>\n      <td>56309</td>\n      <td>2022</td>\n      <td>f</td>\n      <td>2022f</td>\n      <td>T</td>\n      <td>United Kingdom</td>\n      <td>Sweden</td>\n      <td>4</td>\n      <td>NaN</td>\n    </tr>\n    <tr>\n      <th>56310</th>\n      <td>56310</td>\n      <td>56310</td>\n      <td>2022</td>\n      <td>f</td>\n      <td>2022f</td>\n      <td>T</td>\n      <td>United Kingdom</td>\n      <td>Switzerland</td>\n      <td>0</td>\n      <td>NaN</td>\n    </tr>\n    <tr>\n      <th>56311</th>\n      <td>56311</td>\n      <td>56311</td>\n      <td>2022</td>\n      <td>f</td>\n      <td>2022f</td>\n      <td>T</td>\n      <td>United Kingdom</td>\n      <td>Ukraine</td>\n      <td>12</td>\n      <td>NaN</td>\n    </tr>\n  </tbody>\n</table>\n<p>56312 rows × 10 columns</p>\n</div>"
     },
     "execution_count": 10,
     "metadata": {},
     "output_type": "execute_result"
    }
   ],
   "source": [
    "#df = pd.read_excel('https://query.data.world/s/cuokq5sbbqlogvjrdwdeacvp367xnq')\n",
    "df = pd.read_csv(\"data/dataworld.csv\")\n",
    "df"
   ]
  },
  {
   "cell_type": "code",
   "execution_count": 11,
   "id": "a7d3fcf3",
   "metadata": {},
   "outputs": [],
   "source": [
    "df.rename(columns=lambda x: x.strip(), inplace=True)\n",
    "df.rename(columns={\n",
    "    \"(semi-) final\": \"semi_or_final\",\n",
    "    \"Jury or Televoting\": \"jury_or_televoting\",\n",
    "    \"From country\": \"from\",\n",
    "    \"To country\": \"to\",\n",
    "    \"Points\": \"points\"\n",
    "}, inplace=True)"
   ]
  },
  {
   "cell_type": "code",
   "execution_count": 12,
   "id": "fa7d3e70",
   "metadata": {},
   "outputs": [
    {
     "data": {
      "text/plain": "       Unnamed: 0  Unnamed: 0.1  Year semi_or_final Edition  \\\n36352       36352         36352  2016             f   2016f   \n36353       36353         36353  2016             f   2016f   \n36354       36354         36354  2016             f   2016f   \n36355       36355         36355  2016             f   2016f   \n36356       36356         36356  2016             f   2016f   \n...           ...           ...   ...           ...     ...   \n56307       56307         56307  2022             f   2022f   \n56308       56308         56308  2022             f   2022f   \n56309       56309         56309  2022             f   2022f   \n56310       56310         56310  2022             f   2022f   \n56311       56311         56311  2022             f   2022f   \n\n      jury_or_televoting            from           to  points Duplicate  \n36352                  T         Albania      Armenia       2       NaN  \n36353                  T         Albania    Australia      12       NaN  \n36354                  T         Albania      Austria       0       NaN  \n36355                  T         Albania   Azerbaijan       0       NaN  \n36356                  T         Albania      Belgium       0       NaN  \n...                  ...             ...          ...     ...       ...  \n56307                  T  United Kingdom       Serbia       1       NaN  \n56308                  T  United Kingdom        Spain       5       NaN  \n56309                  T  United Kingdom       Sweden       4       NaN  \n56310                  T  United Kingdom  Switzerland       0       NaN  \n56311                  T  United Kingdom      Ukraine      12       NaN  \n\n[6281 rows x 10 columns]",
      "text/html": "<div>\n<style scoped>\n    .dataframe tbody tr th:only-of-type {\n        vertical-align: middle;\n    }\n\n    .dataframe tbody tr th {\n        vertical-align: top;\n    }\n\n    .dataframe thead th {\n        text-align: right;\n    }\n</style>\n<table border=\"1\" class=\"dataframe\">\n  <thead>\n    <tr style=\"text-align: right;\">\n      <th></th>\n      <th>Unnamed: 0</th>\n      <th>Unnamed: 0.1</th>\n      <th>Year</th>\n      <th>semi_or_final</th>\n      <th>Edition</th>\n      <th>jury_or_televoting</th>\n      <th>from</th>\n      <th>to</th>\n      <th>points</th>\n      <th>Duplicate</th>\n    </tr>\n  </thead>\n  <tbody>\n    <tr>\n      <th>36352</th>\n      <td>36352</td>\n      <td>36352</td>\n      <td>2016</td>\n      <td>f</td>\n      <td>2016f</td>\n      <td>T</td>\n      <td>Albania</td>\n      <td>Armenia</td>\n      <td>2</td>\n      <td>NaN</td>\n    </tr>\n    <tr>\n      <th>36353</th>\n      <td>36353</td>\n      <td>36353</td>\n      <td>2016</td>\n      <td>f</td>\n      <td>2016f</td>\n      <td>T</td>\n      <td>Albania</td>\n      <td>Australia</td>\n      <td>12</td>\n      <td>NaN</td>\n    </tr>\n    <tr>\n      <th>36354</th>\n      <td>36354</td>\n      <td>36354</td>\n      <td>2016</td>\n      <td>f</td>\n      <td>2016f</td>\n      <td>T</td>\n      <td>Albania</td>\n      <td>Austria</td>\n      <td>0</td>\n      <td>NaN</td>\n    </tr>\n    <tr>\n      <th>36355</th>\n      <td>36355</td>\n      <td>36355</td>\n      <td>2016</td>\n      <td>f</td>\n      <td>2016f</td>\n      <td>T</td>\n      <td>Albania</td>\n      <td>Azerbaijan</td>\n      <td>0</td>\n      <td>NaN</td>\n    </tr>\n    <tr>\n      <th>36356</th>\n      <td>36356</td>\n      <td>36356</td>\n      <td>2016</td>\n      <td>f</td>\n      <td>2016f</td>\n      <td>T</td>\n      <td>Albania</td>\n      <td>Belgium</td>\n      <td>0</td>\n      <td>NaN</td>\n    </tr>\n    <tr>\n      <th>...</th>\n      <td>...</td>\n      <td>...</td>\n      <td>...</td>\n      <td>...</td>\n      <td>...</td>\n      <td>...</td>\n      <td>...</td>\n      <td>...</td>\n      <td>...</td>\n      <td>...</td>\n    </tr>\n    <tr>\n      <th>56307</th>\n      <td>56307</td>\n      <td>56307</td>\n      <td>2022</td>\n      <td>f</td>\n      <td>2022f</td>\n      <td>T</td>\n      <td>United Kingdom</td>\n      <td>Serbia</td>\n      <td>1</td>\n      <td>NaN</td>\n    </tr>\n    <tr>\n      <th>56308</th>\n      <td>56308</td>\n      <td>56308</td>\n      <td>2022</td>\n      <td>f</td>\n      <td>2022f</td>\n      <td>T</td>\n      <td>United Kingdom</td>\n      <td>Spain</td>\n      <td>5</td>\n      <td>NaN</td>\n    </tr>\n    <tr>\n      <th>56309</th>\n      <td>56309</td>\n      <td>56309</td>\n      <td>2022</td>\n      <td>f</td>\n      <td>2022f</td>\n      <td>T</td>\n      <td>United Kingdom</td>\n      <td>Sweden</td>\n      <td>4</td>\n      <td>NaN</td>\n    </tr>\n    <tr>\n      <th>56310</th>\n      <td>56310</td>\n      <td>56310</td>\n      <td>2022</td>\n      <td>f</td>\n      <td>2022f</td>\n      <td>T</td>\n      <td>United Kingdom</td>\n      <td>Switzerland</td>\n      <td>0</td>\n      <td>NaN</td>\n    </tr>\n    <tr>\n      <th>56311</th>\n      <td>56311</td>\n      <td>56311</td>\n      <td>2022</td>\n      <td>f</td>\n      <td>2022f</td>\n      <td>T</td>\n      <td>United Kingdom</td>\n      <td>Ukraine</td>\n      <td>12</td>\n      <td>NaN</td>\n    </tr>\n  </tbody>\n</table>\n<p>6281 rows × 10 columns</p>\n</div>"
     },
     "metadata": {},
     "output_type": "display_data"
    },
    {
     "data": {
      "text/plain": "       Unnamed: 0  Unnamed: 0.1  Year semi_or_final Edition  \\\n0               0             0  1975             f   1975f   \n1               1             1  1975             f   1975f   \n2               2             2  1975             f   1975f   \n3               3             3  1975             f   1975f   \n4               4             4  1975             f   1975f   \n...           ...           ...   ...           ...     ...   \n56283       56283         56283  2022             f   2022f   \n56284       56284         56284  2022             f   2022f   \n56285       56285         56285  2022             f   2022f   \n56286       56286         56286  2022             f   2022f   \n56287       56287         56287  2022             f   2022f   \n\n      jury_or_televoting            from           to  points Duplicate  \n0                      J         Belgium      Belgium       0         x  \n1                      J         Belgium      Finland       0       NaN  \n2                      J         Belgium       France       2       NaN  \n3                      J         Belgium      Germany       0       NaN  \n4                      J         Belgium      Ireland      12       NaN  \n...                  ...             ...          ...     ...       ...  \n56283                  J  United Kingdom       Serbia       1       NaN  \n56284                  J  United Kingdom        Spain      10       NaN  \n56285                  J  United Kingdom       Sweden      12       NaN  \n56286                  J  United Kingdom  Switzerland       2       NaN  \n56287                  J  United Kingdom      Ukraine       0       NaN  \n\n[32024 rows x 10 columns]",
      "text/html": "<div>\n<style scoped>\n    .dataframe tbody tr th:only-of-type {\n        vertical-align: middle;\n    }\n\n    .dataframe tbody tr th {\n        vertical-align: top;\n    }\n\n    .dataframe thead th {\n        text-align: right;\n    }\n</style>\n<table border=\"1\" class=\"dataframe\">\n  <thead>\n    <tr style=\"text-align: right;\">\n      <th></th>\n      <th>Unnamed: 0</th>\n      <th>Unnamed: 0.1</th>\n      <th>Year</th>\n      <th>semi_or_final</th>\n      <th>Edition</th>\n      <th>jury_or_televoting</th>\n      <th>from</th>\n      <th>to</th>\n      <th>points</th>\n      <th>Duplicate</th>\n    </tr>\n  </thead>\n  <tbody>\n    <tr>\n      <th>0</th>\n      <td>0</td>\n      <td>0</td>\n      <td>1975</td>\n      <td>f</td>\n      <td>1975f</td>\n      <td>J</td>\n      <td>Belgium</td>\n      <td>Belgium</td>\n      <td>0</td>\n      <td>x</td>\n    </tr>\n    <tr>\n      <th>1</th>\n      <td>1</td>\n      <td>1</td>\n      <td>1975</td>\n      <td>f</td>\n      <td>1975f</td>\n      <td>J</td>\n      <td>Belgium</td>\n      <td>Finland</td>\n      <td>0</td>\n      <td>NaN</td>\n    </tr>\n    <tr>\n      <th>2</th>\n      <td>2</td>\n      <td>2</td>\n      <td>1975</td>\n      <td>f</td>\n      <td>1975f</td>\n      <td>J</td>\n      <td>Belgium</td>\n      <td>France</td>\n      <td>2</td>\n      <td>NaN</td>\n    </tr>\n    <tr>\n      <th>3</th>\n      <td>3</td>\n      <td>3</td>\n      <td>1975</td>\n      <td>f</td>\n      <td>1975f</td>\n      <td>J</td>\n      <td>Belgium</td>\n      <td>Germany</td>\n      <td>0</td>\n      <td>NaN</td>\n    </tr>\n    <tr>\n      <th>4</th>\n      <td>4</td>\n      <td>4</td>\n      <td>1975</td>\n      <td>f</td>\n      <td>1975f</td>\n      <td>J</td>\n      <td>Belgium</td>\n      <td>Ireland</td>\n      <td>12</td>\n      <td>NaN</td>\n    </tr>\n    <tr>\n      <th>...</th>\n      <td>...</td>\n      <td>...</td>\n      <td>...</td>\n      <td>...</td>\n      <td>...</td>\n      <td>...</td>\n      <td>...</td>\n      <td>...</td>\n      <td>...</td>\n      <td>...</td>\n    </tr>\n    <tr>\n      <th>56283</th>\n      <td>56283</td>\n      <td>56283</td>\n      <td>2022</td>\n      <td>f</td>\n      <td>2022f</td>\n      <td>J</td>\n      <td>United Kingdom</td>\n      <td>Serbia</td>\n      <td>1</td>\n      <td>NaN</td>\n    </tr>\n    <tr>\n      <th>56284</th>\n      <td>56284</td>\n      <td>56284</td>\n      <td>2022</td>\n      <td>f</td>\n      <td>2022f</td>\n      <td>J</td>\n      <td>United Kingdom</td>\n      <td>Spain</td>\n      <td>10</td>\n      <td>NaN</td>\n    </tr>\n    <tr>\n      <th>56285</th>\n      <td>56285</td>\n      <td>56285</td>\n      <td>2022</td>\n      <td>f</td>\n      <td>2022f</td>\n      <td>J</td>\n      <td>United Kingdom</td>\n      <td>Sweden</td>\n      <td>12</td>\n      <td>NaN</td>\n    </tr>\n    <tr>\n      <th>56286</th>\n      <td>56286</td>\n      <td>56286</td>\n      <td>2022</td>\n      <td>f</td>\n      <td>2022f</td>\n      <td>J</td>\n      <td>United Kingdom</td>\n      <td>Switzerland</td>\n      <td>2</td>\n      <td>NaN</td>\n    </tr>\n    <tr>\n      <th>56287</th>\n      <td>56287</td>\n      <td>56287</td>\n      <td>2022</td>\n      <td>f</td>\n      <td>2022f</td>\n      <td>J</td>\n      <td>United Kingdom</td>\n      <td>Ukraine</td>\n      <td>0</td>\n      <td>NaN</td>\n    </tr>\n  </tbody>\n</table>\n<p>32024 rows × 10 columns</p>\n</div>"
     },
     "metadata": {},
     "output_type": "display_data"
    }
   ],
   "source": [
    "df_finals = df[df[\"semi_or_final\"] == 'f']\n",
    "df_finals_televoting = df_finals[df_finals[\"jury_or_televoting\"] == \"T\"]\n",
    "df_finals_jury = df_finals[df_finals[\"jury_or_televoting\"] == \"J\"]\n",
    "\n",
    "\n",
    "display(df_finals_televoting)\n",
    "display(df_finals_jury)"
   ]
  },
  {
   "cell_type": "markdown",
   "id": "acf93972",
   "metadata": {},
   "source": [
    "Let's visualize!"
   ]
  },
  {
   "cell_type": "markdown",
   "id": "77fb52d4",
   "metadata": {},
   "source": [
    "# Agent Based Modelling"
   ]
  },
  {
   "cell_type": "code",
   "execution_count": 13,
   "id": "ee8c9c9f",
   "metadata": {},
   "outputs": [],
   "source": [
    "SCORES = np.array([12, 10, 8, 7, 6, 5, 4, 3, 2, 1])\n",
    "alpha = 0.1"
   ]
  },
  {
   "cell_type": "code",
   "execution_count": 14,
   "id": "85528013",
   "metadata": {},
   "outputs": [],
   "source": [
    "def calc_All_FoF(df, from_country, points_column = \"points\", FoF_column = \"FoF\"):\n",
    "    Voter_selector = df[\"from\"] == from_country\n",
    "\n",
    "    voting_countries_2022 = df[\"from\"].unique()\n",
    "\n",
    "\n",
    "    N = len(voting_countries_2022)\n",
    "    \n",
    "    for to_country in df[\"to\"].unique():\n",
    "        Candidate_selector = df[\"to\"] == to_country\n",
    "\n",
    "        final_score = sum(df.loc[Candidate_selector, points_column])\n",
    "\n",
    "        points = df.loc[Voter_selector & Candidate_selector, points_column]\n",
    "\n",
    "        df.loc[Voter_selector & Candidate_selector, FoF_column ] =  ( points / 12 ) - ( ( final_score - points )/( 12*(N-2) ) )"
   ]
  },
  {
   "cell_type": "markdown",
   "id": "0b43577b",
   "metadata": {},
   "source": [
    "## Null Model\n",
    "\n",
    "In this null model, countries freely vote for other countries.  The only restriction is that they can assign only a fixed amount of points"
   ]
  },
  {
   "cell_type": "code",
   "execution_count": 15,
   "id": "36440a80",
   "metadata": {},
   "outputs": [],
   "source": [
    "class NullVotingAgent(Agent):\n",
    "    \n",
    "    def __init__(self, unique_id, model, df):\n",
    "        '''\n",
    "         Create a new Null Voting Agent (A \"country\")\n",
    "\n",
    "         Args:\n",
    "            unique_id: Unique identifier for the agent (A country name)\n",
    "        '''\n",
    "        \n",
    "        super().__init__(unique_id, model)\n",
    "        \n",
    "        self.df = df\n",
    "        \n",
    "        \n",
    "    def step(self):\n",
    "        '''\n",
    "        Run one step of the agent.\n",
    "        '''\n",
    "        \n",
    "        #print(f\"Country {self.unique_id} is now voting\")\n",
    "        \n",
    "        country_row_selector = self.df[\"from\"] == self.unique_id\n",
    "\n",
    "        fit = np.random.uniform(0, 1, size=len( self.df[country_row_selector] ))\n",
    "\n",
    "        points_given = 58 * (fit/sum(fit))\n",
    "        \n",
    "        #print(f\"{voting_country=}, {points_given=}\")\n",
    "        self.df.loc[country_row_selector, \"null_model_points\"] += points_given"
   ]
  },
  {
   "cell_type": "code",
   "execution_count": 16,
   "id": "7ae706fb",
   "metadata": {},
   "outputs": [],
   "source": [
    "def get_null_model_ks(model):\n",
    "    \n",
    "    data1 = model.df[\"FoF\"]\n",
    "    data2 = model.df[\"null_model_FoF\"]\n",
    "    \n",
    "    return ks_2samp(data1, data2)\n",
    "\n",
    "class NullVotingModel(Model):\n",
    "    \n",
    "    def __init__(self, jury_or_televoting, year):\n",
    "        '''\n",
    "        Create a new NullVotingModel model.\n",
    "\n",
    "         Args:\n",
    "            jury_or_televoting: a string with values  \n",
    "                * J: Jury\n",
    "                * T: Televoting\n",
    "            year: year of competition\n",
    "        '''\n",
    "        \n",
    "        super().__init__()\n",
    "        \n",
    "        df_finals_type = df_finals[df_finals[\"jury_or_televoting\"] == jury_or_televoting]\n",
    "        df_finals_televoting_year = df_finals_type[df_finals_type[\"Year\"]==year].copy()\n",
    "\n",
    "        self.df = df_finals_televoting_year\n",
    "        \n",
    "        self.datacollector = DataCollector(\n",
    "            model_reporters={\"ks\": get_null_model_ks}\n",
    "        )\n",
    "        \n",
    "        self.schedule = RandomActivation(self)\n",
    "        \n",
    "        \n",
    "        self.df[\"null_model_points\"] = 0\n",
    "        self.df[\"FoF\"] = 0\n",
    "        self.df[\"null_model_FoF\"] = 0\n",
    "\n",
    "        voting_countries = self.df[\"from\"].unique()\n",
    "\n",
    "        for voting_country in voting_countries:\n",
    "            country_row_selector = self.df[\"from\"] == voting_country\n",
    "            the_agent = NullVotingAgent(voting_country, self, self.df)\n",
    "            self.schedule.add(the_agent)\n",
    "            \n",
    "\n",
    "    def step(self):\n",
    "        '''\n",
    "        Run one step of the model. If All agents are happy, halt the model.\n",
    "        '''\n",
    "        \n",
    "        \n",
    "        self.schedule.step()\n",
    "        \n",
    "        #print(\"Going to start calc all the FoF\")\n",
    "        for voting_country in self.df[\"from\"].unique():\n",
    "            calc_All_FoF(self.df, voting_country, 'points', \"FoF\")        \n",
    "            calc_All_FoF(self.df, voting_country, 'null_model_points', \"null_model_FoF\")\n",
    "            \n",
    "        self.datacollector.collect(self)"
   ]
  },
  {
   "cell_type": "markdown",
   "id": "6e864336",
   "metadata": {},
   "source": [
    "## Model1 ABM\n",
    "This model also gives points at random, but follows the rules of the contest"
   ]
  },
  {
   "cell_type": "code",
   "execution_count": 17,
   "id": "72c774a4",
   "metadata": {},
   "outputs": [],
   "source": [
    "class Model1Agent(Agent):\n",
    "    \n",
    "    def __init__(self, unique_id, model, df):\n",
    "        '''\n",
    "         Create a new Model 1 Voting Agent (A \"country\")\n",
    "\n",
    "         Args:\n",
    "            unique_id: Unique identifier for the agent (A country name)\n",
    "        '''\n",
    "        \n",
    "        super().__init__(unique_id, model)\n",
    "        self.df = df\n",
    "        \n",
    "        \n",
    "    def step(self):\n",
    "        '''\n",
    "        Run one step of the agent.\n",
    "        '''\n",
    "        \n",
    "        country_row_selector = self.df[\"from\"] == self.unique_id\n",
    "\n",
    "        fit = pd.Series( np.random.uniform(0, 1, size=len(self.df[country_row_selector])) )\n",
    "        rank = fit.rank(ascending=False)\n",
    "        points_given = rank.apply(\n",
    "            lambda x: SCORES[int(x) - 1] if x <= 10 else 0\n",
    "        )\n",
    "        \n",
    "        #print(f\"{rank=}, {voting_country=}, {type(points_given)=}\")\n",
    "        self.df.loc[country_row_selector, \"model1_points\"] += points_given.to_numpy()"
   ]
  },
  {
   "cell_type": "code",
   "execution_count": 18,
   "id": "32be7063",
   "metadata": {},
   "outputs": [],
   "source": [
    "def get_model1_ks(model):\n",
    "    \n",
    "    data1 = model.df[\"FoF\"]\n",
    "    data2 = model.df[\"model1_FoF\"]\n",
    "    \n",
    "    return ks_2samp(data1, data2)\n",
    "\n",
    "\n",
    "class Model1Model(Model):\n",
    "    \n",
    "    def __init__(self, jury_or_televoting, year):\n",
    "        '''\n",
    "        Create a new NullVotingModel model.\n",
    "\n",
    "         Args:\n",
    "            jury_or_televoting: a string with values  \n",
    "                * J: Jury\n",
    "                * T: Televoting\n",
    "            year: year of competition\n",
    "        '''\n",
    "        \n",
    "        super().__init__()\n",
    "        \n",
    "        df_finals_type = df_finals[df_finals[\"jury_or_televoting\"] == jury_or_televoting]\n",
    "        df_finals_televoting_year = df_finals_type[df_finals_type[\"Year\"]==year].copy()\n",
    "\n",
    "        self.df = df_finals_televoting_year\n",
    "        \n",
    "        self.datacollector = DataCollector(\n",
    "            model_reporters={\"ks\": get_model1_ks}\n",
    "        )\n",
    "        \n",
    "        self.df[\"model1_points\"] = 0\n",
    "        \n",
    "        self.schedule = RandomActivation(self)\n",
    "        \n",
    "\n",
    "        voting_countries = self.df[\"from\"].unique()\n",
    "\n",
    "        for voting_country in voting_countries:\n",
    "            country_row_selector = self.df[\"from\"] == voting_country\n",
    "            a = Model1Agent(voting_country, self, self.df)\n",
    "            self.schedule.add(a)\n",
    "            \n",
    "\n",
    "    def step(self):\n",
    "        '''\n",
    "        Run one step of the model.\n",
    "        '''\n",
    "        \n",
    "        self.schedule.step()\n",
    "        \n",
    "        #print(\"Going to start calc all the FoF\")\n",
    "        for voting_country in self.df[\"from\"].unique():\n",
    "            calc_All_FoF(self.df, voting_country, 'points', \"FoF\")        \n",
    "            calc_All_FoF(self.df, voting_country, 'model1_points', \"model1_FoF\")\n",
    "            \n",
    "        self.datacollector.collect(self)"
   ]
  },
  {
   "cell_type": "markdown",
   "id": "04395431",
   "metadata": {},
   "source": [
    "## Affinity Model"
   ]
  },
  {
   "cell_type": "code",
   "execution_count": 19,
   "id": "f8d50f76",
   "metadata": {},
   "outputs": [],
   "source": [
    "class AffinityModelAgent(Agent):\n",
    "    \n",
    "    def __init__(self, unique_id, model, df, alpha, cultural_network):\n",
    "        '''\n",
    "         Create a new Model 1 Voting Agent (A \"country\")\n",
    "\n",
    "         Args:\n",
    "            unique_id: Unique identifier for the agent (A country name)\n",
    "        '''\n",
    "        \n",
    "        super().__init__(unique_id, model)\n",
    "        \n",
    "        self.df = df\n",
    "        self.cultural_network = cultural_network\n",
    "        self.alpha = alpha\n",
    "        \n",
    "    def step(self):\n",
    "        '''\n",
    "        Run one step of the agent.\n",
    "        '''\n",
    "        \n",
    "        country_row_selector = self.df[\"from\"] == self.unique_id\n",
    "        \n",
    "        def affinity_fit(row):\n",
    "            '''\n",
    "                row: a dataframe row\n",
    "            '''\n",
    "            q = float(self.df[\"relative_score\"].sample(1))\n",
    "\n",
    "            from_country = row['from']\n",
    "            to_country = row['to']\n",
    "\n",
    "\n",
    "            network_part = nx.get_edge_attributes(self.cultural_network, \"weight\")[(from_country, to_country)]\n",
    "\n",
    "            the_fit = self.alpha * q + network_part * (1 - self.alpha)\n",
    "\n",
    "            return the_fit\n",
    "\n",
    "        \n",
    "        country_df = self.df[country_row_selector]\n",
    "\n",
    "        fit = country_df.apply(\n",
    "            lambda row: affinity_fit(row), axis=1\n",
    "        )\n",
    "        #print(f\"{unique_id=}, {fit=}\")\n",
    "        rank = fit.rank(ascending=False)\n",
    "        points_given = rank.apply(\n",
    "            lambda x: SCORES[int(x) - 1] if x <= 10 else 0\n",
    "        )\n",
    "        \n",
    "        self.df.loc[country_row_selector, \"affinity_model_points\"] += points_given.to_numpy()\n"
   ]
  },
  {
   "cell_type": "code",
   "execution_count": 20,
   "id": "b7101ffa",
   "metadata": {},
   "outputs": [],
   "source": [
    "def get_affinity_ks(model):\n",
    "    \n",
    "    data1 = model.df[\"FoF\"]\n",
    "    data2 = model.df[\"affinity_model_FoF\"]\n",
    "    \n",
    "    return ks_2samp(data1, data2)\n",
    "\n",
    "\n",
    "class AffinityModel(Model):\n",
    "    \n",
    "    def __init__(self,jury_or_televoting, year, mu, sigma, alpha):\n",
    "        '''\n",
    "        Create a new NullVotingModel model.\n",
    "\n",
    "         Args:\n",
    "        '''\n",
    "        \n",
    "        super().__init__()\n",
    "        \n",
    "        self.datacollector = DataCollector(\n",
    "            model_reporters={\"ks\": get_affinity_ks}\n",
    "        )\n",
    "\n",
    "        \n",
    "        df_finals_type = df_finals[df_finals[\"jury_or_televoting\"] == jury_or_televoting]\n",
    "        df_finals_televoting_year = df_finals_type[df_finals_type[\"Year\"]==year].copy()\n",
    "        self.df = df_finals_televoting_year\n",
    "        \n",
    "        self.df[\"affinity_model_points\"] = 0\n",
    "        \n",
    "        self.df[\"relative_score\"] = self.df[\"points\"]/sum(self.df[\"points\"])\n",
    "        \n",
    "        \n",
    "        self.cultural_network = nx.from_pandas_edgelist(\n",
    "            self.df,\n",
    "            source=\"from\",\n",
    "            target=\"to\",\n",
    "            create_using=nx.DiGraph()\n",
    "        )\n",
    "\n",
    "        self.mu = mu\n",
    "        self.sigma = sigma\n",
    "        self.alpha = alpha\n",
    "\n",
    "        dict_weight = {}\n",
    "        for edge in self.cultural_network.edges():\n",
    "            sampled_weight = np.random.normal(mu, sigma)\n",
    "            dict_weight[edge] = sampled_weight\n",
    "        nx.set_edge_attributes(self.cultural_network, values = dict_weight, name = 'weight')\n",
    "        \n",
    "        \n",
    "\n",
    "        voting_countries = self.df[\"from\"].unique()\n",
    "        \n",
    "        self.schedule = RandomActivation(self)\n",
    "\n",
    "        for voting_country in voting_countries:\n",
    "            a = AffinityModelAgent(voting_country, self, self.df, self.alpha, self.cultural_network)\n",
    "            self.schedule.add(a)\n",
    "            \n",
    "\n",
    "    def step(self):\n",
    "        '''\n",
    "        Run one step of the model.\n",
    "        '''\n",
    "        \n",
    "        self.schedule.step()\n",
    "        \n",
    "        #print(\"Going to start calc all the FoF\")\n",
    "        for voting_country in self.df[\"from\"].unique():\n",
    "            calc_All_FoF(self.df, voting_country, 'points', \"FoF\")        \n",
    "            calc_All_FoF(self.df, voting_country, 'affinity_model_points', \"affinity_model_FoF\")\n",
    "            \n",
    "        self.datacollector.collect(self)"
   ]
  },
  {
   "cell_type": "markdown",
   "id": "2158a8e3",
   "metadata": {},
   "source": [
    "# 3. Run the ABMs in a batch for various years\n",
    "\n"
   ]
  },
  {
   "cell_type": "markdown",
   "id": "cc3c8273",
   "metadata": {},
   "source": [
    "# 4. Friend-Or-Foe for the ABMS\n",
    "\n",
    "Now that we have Various models and also empirical data, we can calculate the Friend-or-Foe coefficients for each of them"
   ]
  },
  {
   "cell_type": "markdown",
   "id": "3818ec2d",
   "metadata": {},
   "source": [
    "## Batch Run"
   ]
  },
  {
   "cell_type": "code",
   "execution_count": 21,
   "id": "fbd08b2e",
   "metadata": {},
   "outputs": [],
   "source": [
    "params_null = {\n",
    "    \"jury_or_televoting\": \"T\",\n",
    "    \"year\": [2021, 2022]    # 2020 Contest was cancelled due to COVID-19\n",
    "}"
   ]
  },
  {
   "cell_type": "code",
   "execution_count": 22,
   "id": "281f1f60",
   "metadata": {},
   "outputs": [],
   "source": [
    "from mesa.batchrunner import batch_run\n",
    "\n",
    "#results = batch_run(\n",
    "#    NullVotingModel,\n",
    "#    parameters=params_null,\n",
    "#    iterations=10,\n",
    "#    max_steps=1,\n",
    "#    number_processes=None,\n",
    "#    data_collection_period=-1,\n",
    "#    display_progress=True,\n",
    "#)"
   ]
  },
  {
   "cell_type": "code",
   "execution_count": 23,
   "id": "fcacd180",
   "metadata": {},
   "outputs": [],
   "source": [
    "#res_null = pd.DataFrame(results)\n",
    "#res_null.to_csv(\"res_null.csv\")"
   ]
  },
  {
   "cell_type": "code",
   "execution_count": 24,
   "id": "628b49fb",
   "metadata": {},
   "outputs": [
    {
     "data": {
      "text/plain": "    Unnamed: 0  RunId  iteration  Step jury_or_televoting  year  ks_statistic  \\\n0            0      0          0     1                  T  2022      0.207179   \n1            1      1          1     1                  T  2022      0.213333   \n2            2      2          0     1                  T  2021      0.247976   \n3            3      3          1     1                  T  2021      0.255061   \n4            4      4          2     1                  T  2021      0.259109   \n5            5      5          2     1                  T  2022      0.191795   \n6            6      6          3     1                  T  2021      0.230769   \n7            7      7          3     1                  T  2022      0.196923   \n8            8      8          4     1                  T  2021      0.233806   \n9            9      9          5     1                  T  2021      0.258097   \n10          10     10          4     1                  T  2022      0.190769   \n11          11     11          5     1                  T  2022      0.204103   \n12          12     12          6     1                  T  2022      0.198974   \n13          13     13          7     1                  T  2022      0.210256   \n14          14     14          6     1                  T  2021      0.244939   \n15          15     15          7     1                  T  2021      0.247976   \n16          16     16          8     1                  T  2021      0.257085   \n17          17     17          8     1                  T  2022      0.200000   \n18          18     18          9     1                  T  2022      0.200000   \n19          19     19          9     1                  T  2021      0.241903   \n\n         ks_pval  \n0   1.006719e-18  \n1   7.782956e-20  \n2   4.491244e-27  \n3   1.231384e-28  \n4   1.503744e-29  \n5   4.324999e-16  \n6   1.799179e-23  \n7   6.045987e-17  \n8   4.353690e-24  \n9   2.552057e-29  \n10  6.369644e-16  \n11  3.517431e-18  \n12  2.711305e-17  \n13  2.826301e-19  \n14  2.031096e-26  \n15  4.491244e-27  \n16  4.321808e-29  \n17  1.809854e-17  \n18  1.809854e-17  \n19  9.009108e-26  ",
      "text/html": "<div>\n<style scoped>\n    .dataframe tbody tr th:only-of-type {\n        vertical-align: middle;\n    }\n\n    .dataframe tbody tr th {\n        vertical-align: top;\n    }\n\n    .dataframe thead th {\n        text-align: right;\n    }\n</style>\n<table border=\"1\" class=\"dataframe\">\n  <thead>\n    <tr style=\"text-align: right;\">\n      <th></th>\n      <th>Unnamed: 0</th>\n      <th>RunId</th>\n      <th>iteration</th>\n      <th>Step</th>\n      <th>jury_or_televoting</th>\n      <th>year</th>\n      <th>ks_statistic</th>\n      <th>ks_pval</th>\n    </tr>\n  </thead>\n  <tbody>\n    <tr>\n      <th>0</th>\n      <td>0</td>\n      <td>0</td>\n      <td>0</td>\n      <td>1</td>\n      <td>T</td>\n      <td>2022</td>\n      <td>0.207179</td>\n      <td>1.006719e-18</td>\n    </tr>\n    <tr>\n      <th>1</th>\n      <td>1</td>\n      <td>1</td>\n      <td>1</td>\n      <td>1</td>\n      <td>T</td>\n      <td>2022</td>\n      <td>0.213333</td>\n      <td>7.782956e-20</td>\n    </tr>\n    <tr>\n      <th>2</th>\n      <td>2</td>\n      <td>2</td>\n      <td>0</td>\n      <td>1</td>\n      <td>T</td>\n      <td>2021</td>\n      <td>0.247976</td>\n      <td>4.491244e-27</td>\n    </tr>\n    <tr>\n      <th>3</th>\n      <td>3</td>\n      <td>3</td>\n      <td>1</td>\n      <td>1</td>\n      <td>T</td>\n      <td>2021</td>\n      <td>0.255061</td>\n      <td>1.231384e-28</td>\n    </tr>\n    <tr>\n      <th>4</th>\n      <td>4</td>\n      <td>4</td>\n      <td>2</td>\n      <td>1</td>\n      <td>T</td>\n      <td>2021</td>\n      <td>0.259109</td>\n      <td>1.503744e-29</td>\n    </tr>\n    <tr>\n      <th>5</th>\n      <td>5</td>\n      <td>5</td>\n      <td>2</td>\n      <td>1</td>\n      <td>T</td>\n      <td>2022</td>\n      <td>0.191795</td>\n      <td>4.324999e-16</td>\n    </tr>\n    <tr>\n      <th>6</th>\n      <td>6</td>\n      <td>6</td>\n      <td>3</td>\n      <td>1</td>\n      <td>T</td>\n      <td>2021</td>\n      <td>0.230769</td>\n      <td>1.799179e-23</td>\n    </tr>\n    <tr>\n      <th>7</th>\n      <td>7</td>\n      <td>7</td>\n      <td>3</td>\n      <td>1</td>\n      <td>T</td>\n      <td>2022</td>\n      <td>0.196923</td>\n      <td>6.045987e-17</td>\n    </tr>\n    <tr>\n      <th>8</th>\n      <td>8</td>\n      <td>8</td>\n      <td>4</td>\n      <td>1</td>\n      <td>T</td>\n      <td>2021</td>\n      <td>0.233806</td>\n      <td>4.353690e-24</td>\n    </tr>\n    <tr>\n      <th>9</th>\n      <td>9</td>\n      <td>9</td>\n      <td>5</td>\n      <td>1</td>\n      <td>T</td>\n      <td>2021</td>\n      <td>0.258097</td>\n      <td>2.552057e-29</td>\n    </tr>\n    <tr>\n      <th>10</th>\n      <td>10</td>\n      <td>10</td>\n      <td>4</td>\n      <td>1</td>\n      <td>T</td>\n      <td>2022</td>\n      <td>0.190769</td>\n      <td>6.369644e-16</td>\n    </tr>\n    <tr>\n      <th>11</th>\n      <td>11</td>\n      <td>11</td>\n      <td>5</td>\n      <td>1</td>\n      <td>T</td>\n      <td>2022</td>\n      <td>0.204103</td>\n      <td>3.517431e-18</td>\n    </tr>\n    <tr>\n      <th>12</th>\n      <td>12</td>\n      <td>12</td>\n      <td>6</td>\n      <td>1</td>\n      <td>T</td>\n      <td>2022</td>\n      <td>0.198974</td>\n      <td>2.711305e-17</td>\n    </tr>\n    <tr>\n      <th>13</th>\n      <td>13</td>\n      <td>13</td>\n      <td>7</td>\n      <td>1</td>\n      <td>T</td>\n      <td>2022</td>\n      <td>0.210256</td>\n      <td>2.826301e-19</td>\n    </tr>\n    <tr>\n      <th>14</th>\n      <td>14</td>\n      <td>14</td>\n      <td>6</td>\n      <td>1</td>\n      <td>T</td>\n      <td>2021</td>\n      <td>0.244939</td>\n      <td>2.031096e-26</td>\n    </tr>\n    <tr>\n      <th>15</th>\n      <td>15</td>\n      <td>15</td>\n      <td>7</td>\n      <td>1</td>\n      <td>T</td>\n      <td>2021</td>\n      <td>0.247976</td>\n      <td>4.491244e-27</td>\n    </tr>\n    <tr>\n      <th>16</th>\n      <td>16</td>\n      <td>16</td>\n      <td>8</td>\n      <td>1</td>\n      <td>T</td>\n      <td>2021</td>\n      <td>0.257085</td>\n      <td>4.321808e-29</td>\n    </tr>\n    <tr>\n      <th>17</th>\n      <td>17</td>\n      <td>17</td>\n      <td>8</td>\n      <td>1</td>\n      <td>T</td>\n      <td>2022</td>\n      <td>0.200000</td>\n      <td>1.809854e-17</td>\n    </tr>\n    <tr>\n      <th>18</th>\n      <td>18</td>\n      <td>18</td>\n      <td>9</td>\n      <td>1</td>\n      <td>T</td>\n      <td>2022</td>\n      <td>0.200000</td>\n      <td>1.809854e-17</td>\n    </tr>\n    <tr>\n      <th>19</th>\n      <td>19</td>\n      <td>19</td>\n      <td>9</td>\n      <td>1</td>\n      <td>T</td>\n      <td>2021</td>\n      <td>0.241903</td>\n      <td>9.009108e-26</td>\n    </tr>\n  </tbody>\n</table>\n</div>"
     },
     "metadata": {},
     "output_type": "display_data"
    }
   ],
   "source": [
    "res_null = pd.read_csv(\"res_null.csv\")\n",
    "display(res_null)"
   ]
  },
  {
   "cell_type": "code",
   "execution_count": 25,
   "outputs": [],
   "source": [
    "df_null_2021 = res_null[res_null[\"year\"] == 2021]\n",
    "df_null_2022 = res_null[res_null[\"year\"] == 2022]\n",
    "\n",
    "kses_2021 = df_null_2021[\"ks_statistic\"]\n",
    "kses_2022 = df_null_2022[\"ks_statistic\"]"
   ],
   "metadata": {
    "collapsed": false,
    "pycharm": {
     "name": "#%%\n"
    }
   }
  },
  {
   "cell_type": "code",
   "execution_count": 26,
   "outputs": [
    {
     "data": {
      "text/plain": "Unnamed: 0                   6\nRunId                        6\niteration                    3\nStep                         1\njury_or_televoting           T\nyear                      2021\nks_statistic          0.230769\n ks_pval                   0.0\nName: 6, dtype: object"
     },
     "execution_count": 26,
     "metadata": {},
     "output_type": "execute_result"
    }
   ],
   "source": [
    "df_null_2021.loc[kses_2021.idxmin()]"
   ],
   "metadata": {
    "collapsed": false,
    "pycharm": {
     "name": "#%%\n"
    }
   }
  },
  {
   "cell_type": "code",
   "execution_count": 27,
   "outputs": [
    {
     "data": {
      "text/plain": "Unnamed: 0                  10\nRunId                       10\niteration                    4\nStep                         1\njury_or_televoting           T\nyear                      2022\nks_statistic          0.190769\n ks_pval                   0.0\nName: 10, dtype: object"
     },
     "execution_count": 27,
     "metadata": {},
     "output_type": "execute_result"
    }
   ],
   "source": [
    "df_null_2022.loc[kses_2022.idxmin()]"
   ],
   "metadata": {
    "collapsed": false,
    "pycharm": {
     "name": "#%%\n"
    }
   }
  },
  {
   "cell_type": "code",
   "execution_count": 28,
   "id": "9fff9de1",
   "metadata": {},
   "outputs": [],
   "source": [
    "params_model1 = {\n",
    "    \"jury_or_televoting\": \"T\",\n",
    "    \"year\": [2021, 2022]    # 2020 Contest was cancelled due to COVID-19\n",
    "}"
   ]
  },
  {
   "cell_type": "code",
   "execution_count": 29,
   "id": "276f6e46",
   "metadata": {},
   "outputs": [],
   "source": [
    "from mesa.batchrunner import batch_run\n",
    "\n",
    "#results = batch_run(\n",
    "#    Model1Model,\n",
    "#    parameters=params_model1,\n",
    "#    iterations=10,\n",
    "#    max_steps=1,\n",
    "#    number_processes=None,\n",
    "#    data_collection_period=-1,\n",
    "#    display_progress=True,\n",
    "#)"
   ]
  },
  {
   "cell_type": "code",
   "execution_count": 30,
   "id": "d007feb3",
   "metadata": {},
   "outputs": [],
   "source": [
    "#res_model1 = pd.DataFrame(results)\n",
    "#res_model1.to_csv(\"res_model1.csv\")"
   ]
  },
  {
   "cell_type": "code",
   "execution_count": 31,
   "id": "125ceffa",
   "metadata": {},
   "outputs": [
    {
     "data": {
      "text/plain": "    Unnamed: 0  RunId  iteration  Step jury_or_televoting  year  ks_statistic  \\\n0            0      0          0     1                  T  2021      0.381579   \n1            1      1          0     1                  T  2022      0.340513   \n2            2      2          1     1                  T  2022      0.383590   \n3            3      3          1     1                  T  2021      0.375506   \n4            4      4          2     1                  T  2021      0.386640   \n5            5      5          2     1                  T  2022      0.350769   \n6            6      6          3     1                  T  2022      0.351795   \n7            7      7          4     1                  T  2022      0.368205   \n8            8      8          3     1                  T  2021      0.381579   \n9            9      9          5     1                  T  2022      0.366154   \n10          10     10          6     1                  T  2022      0.367179   \n11          11     11          4     1                  T  2021      0.385628   \n12          12     12          7     1                  T  2022      0.356923   \n13          13     13          5     1                  T  2021      0.382591   \n14          14     14          6     1                  T  2021      0.370445   \n15          15     15          7     1                  T  2021      0.375506   \n16          16     16          8     1                  T  2021      0.395749   \n17          17     17          8     1                  T  2022      0.356923   \n18          18     18          9     1                  T  2021      0.387652   \n19          19     19          9     1                  T  2022      0.335385   \n\n         ks_pval  \n0   1.768730e-64  \n1   1.717646e-50  \n2   2.540396e-64  \n3   2.101635e-62  \n4   3.092521e-66  \n5   1.275017e-53  \n6   6.123565e-54  \n7   3.565003e-59  \n8   1.768730e-64  \n9   1.662541e-58  \n10  7.707803e-59  \n11  6.979826e-66  \n12  1.510737e-55  \n13  7.911375e-65  \n14  1.055607e-60  \n15  2.101635e-62  \n16  1.827796e-69  \n17  1.510737e-55  \n18  1.366935e-66  \n19  5.778665e-49  ",
      "text/html": "<div>\n<style scoped>\n    .dataframe tbody tr th:only-of-type {\n        vertical-align: middle;\n    }\n\n    .dataframe tbody tr th {\n        vertical-align: top;\n    }\n\n    .dataframe thead th {\n        text-align: right;\n    }\n</style>\n<table border=\"1\" class=\"dataframe\">\n  <thead>\n    <tr style=\"text-align: right;\">\n      <th></th>\n      <th>Unnamed: 0</th>\n      <th>RunId</th>\n      <th>iteration</th>\n      <th>Step</th>\n      <th>jury_or_televoting</th>\n      <th>year</th>\n      <th>ks_statistic</th>\n      <th>ks_pval</th>\n    </tr>\n  </thead>\n  <tbody>\n    <tr>\n      <th>0</th>\n      <td>0</td>\n      <td>0</td>\n      <td>0</td>\n      <td>1</td>\n      <td>T</td>\n      <td>2021</td>\n      <td>0.381579</td>\n      <td>1.768730e-64</td>\n    </tr>\n    <tr>\n      <th>1</th>\n      <td>1</td>\n      <td>1</td>\n      <td>0</td>\n      <td>1</td>\n      <td>T</td>\n      <td>2022</td>\n      <td>0.340513</td>\n      <td>1.717646e-50</td>\n    </tr>\n    <tr>\n      <th>2</th>\n      <td>2</td>\n      <td>2</td>\n      <td>1</td>\n      <td>1</td>\n      <td>T</td>\n      <td>2022</td>\n      <td>0.383590</td>\n      <td>2.540396e-64</td>\n    </tr>\n    <tr>\n      <th>3</th>\n      <td>3</td>\n      <td>3</td>\n      <td>1</td>\n      <td>1</td>\n      <td>T</td>\n      <td>2021</td>\n      <td>0.375506</td>\n      <td>2.101635e-62</td>\n    </tr>\n    <tr>\n      <th>4</th>\n      <td>4</td>\n      <td>4</td>\n      <td>2</td>\n      <td>1</td>\n      <td>T</td>\n      <td>2021</td>\n      <td>0.386640</td>\n      <td>3.092521e-66</td>\n    </tr>\n    <tr>\n      <th>5</th>\n      <td>5</td>\n      <td>5</td>\n      <td>2</td>\n      <td>1</td>\n      <td>T</td>\n      <td>2022</td>\n      <td>0.350769</td>\n      <td>1.275017e-53</td>\n    </tr>\n    <tr>\n      <th>6</th>\n      <td>6</td>\n      <td>6</td>\n      <td>3</td>\n      <td>1</td>\n      <td>T</td>\n      <td>2022</td>\n      <td>0.351795</td>\n      <td>6.123565e-54</td>\n    </tr>\n    <tr>\n      <th>7</th>\n      <td>7</td>\n      <td>7</td>\n      <td>4</td>\n      <td>1</td>\n      <td>T</td>\n      <td>2022</td>\n      <td>0.368205</td>\n      <td>3.565003e-59</td>\n    </tr>\n    <tr>\n      <th>8</th>\n      <td>8</td>\n      <td>8</td>\n      <td>3</td>\n      <td>1</td>\n      <td>T</td>\n      <td>2021</td>\n      <td>0.381579</td>\n      <td>1.768730e-64</td>\n    </tr>\n    <tr>\n      <th>9</th>\n      <td>9</td>\n      <td>9</td>\n      <td>5</td>\n      <td>1</td>\n      <td>T</td>\n      <td>2022</td>\n      <td>0.366154</td>\n      <td>1.662541e-58</td>\n    </tr>\n    <tr>\n      <th>10</th>\n      <td>10</td>\n      <td>10</td>\n      <td>6</td>\n      <td>1</td>\n      <td>T</td>\n      <td>2022</td>\n      <td>0.367179</td>\n      <td>7.707803e-59</td>\n    </tr>\n    <tr>\n      <th>11</th>\n      <td>11</td>\n      <td>11</td>\n      <td>4</td>\n      <td>1</td>\n      <td>T</td>\n      <td>2021</td>\n      <td>0.385628</td>\n      <td>6.979826e-66</td>\n    </tr>\n    <tr>\n      <th>12</th>\n      <td>12</td>\n      <td>12</td>\n      <td>7</td>\n      <td>1</td>\n      <td>T</td>\n      <td>2022</td>\n      <td>0.356923</td>\n      <td>1.510737e-55</td>\n    </tr>\n    <tr>\n      <th>13</th>\n      <td>13</td>\n      <td>13</td>\n      <td>5</td>\n      <td>1</td>\n      <td>T</td>\n      <td>2021</td>\n      <td>0.382591</td>\n      <td>7.911375e-65</td>\n    </tr>\n    <tr>\n      <th>14</th>\n      <td>14</td>\n      <td>14</td>\n      <td>6</td>\n      <td>1</td>\n      <td>T</td>\n      <td>2021</td>\n      <td>0.370445</td>\n      <td>1.055607e-60</td>\n    </tr>\n    <tr>\n      <th>15</th>\n      <td>15</td>\n      <td>15</td>\n      <td>7</td>\n      <td>1</td>\n      <td>T</td>\n      <td>2021</td>\n      <td>0.375506</td>\n      <td>2.101635e-62</td>\n    </tr>\n    <tr>\n      <th>16</th>\n      <td>16</td>\n      <td>16</td>\n      <td>8</td>\n      <td>1</td>\n      <td>T</td>\n      <td>2021</td>\n      <td>0.395749</td>\n      <td>1.827796e-69</td>\n    </tr>\n    <tr>\n      <th>17</th>\n      <td>17</td>\n      <td>17</td>\n      <td>8</td>\n      <td>1</td>\n      <td>T</td>\n      <td>2022</td>\n      <td>0.356923</td>\n      <td>1.510737e-55</td>\n    </tr>\n    <tr>\n      <th>18</th>\n      <td>18</td>\n      <td>18</td>\n      <td>9</td>\n      <td>1</td>\n      <td>T</td>\n      <td>2021</td>\n      <td>0.387652</td>\n      <td>1.366935e-66</td>\n    </tr>\n    <tr>\n      <th>19</th>\n      <td>19</td>\n      <td>19</td>\n      <td>9</td>\n      <td>1</td>\n      <td>T</td>\n      <td>2022</td>\n      <td>0.335385</td>\n      <td>5.778665e-49</td>\n    </tr>\n  </tbody>\n</table>\n</div>"
     },
     "metadata": {},
     "output_type": "display_data"
    }
   ],
   "source": [
    "res_model1 = pd.read_csv(\"res_model1.csv\")\n",
    "display(res_model1)"
   ]
  },
  {
   "cell_type": "code",
   "execution_count": 32,
   "outputs": [],
   "source": [
    "df_model1_2021 = res_model1[res_model1[\"year\"] == 2021]\n",
    "df_model1_2022 = res_model1[res_model1[\"year\"] == 2022]\n",
    "\n",
    "kses_2021 = df_model1_2021[\"ks_statistic\"]\n",
    "kses_2022 = df_model1_2022[\"ks_statistic\"]"
   ],
   "metadata": {
    "collapsed": false,
    "pycharm": {
     "name": "#%%\n"
    }
   }
  },
  {
   "cell_type": "code",
   "execution_count": 33,
   "outputs": [
    {
     "data": {
      "text/plain": "Unnamed: 0                  14\nRunId                       14\niteration                    6\nStep                         1\njury_or_televoting           T\nyear                      2021\nks_statistic          0.370445\nks_pval                    0.0\nName: 14, dtype: object"
     },
     "execution_count": 33,
     "metadata": {},
     "output_type": "execute_result"
    }
   ],
   "source": [
    "df_model1_2021.loc[kses_2021.idxmin()]"
   ],
   "metadata": {
    "collapsed": false,
    "pycharm": {
     "name": "#%%\n"
    }
   }
  },
  {
   "cell_type": "code",
   "execution_count": 34,
   "outputs": [
    {
     "data": {
      "text/plain": "Unnamed: 0                  19\nRunId                       19\niteration                    9\nStep                         1\njury_or_televoting           T\nyear                      2022\nks_statistic          0.335385\nks_pval                    0.0\nName: 19, dtype: object"
     },
     "execution_count": 34,
     "metadata": {},
     "output_type": "execute_result"
    }
   ],
   "source": [
    "df_model1_2022.loc[kses_2022.idxmin()]"
   ],
   "metadata": {
    "collapsed": false,
    "pycharm": {
     "name": "#%%\n"
    }
   }
  },
  {
   "cell_type": "code",
   "execution_count": 35,
   "id": "e5f0a357",
   "metadata": {},
   "outputs": [],
   "source": [
    "params_affinity = {\n",
    "    \"jury_or_televoting\": \"T\",\n",
    "    \"year\": [2021, 2022],    # 2020 Contest was cancelled due to COVID-19\n",
    "    \"mu\": np.linspace(-0.1, 0.1, 21),\n",
    "    \"sigma\": np.linspace(0, 0.1, 21),\n",
    "    \"alpha\": np.linspace(0, 0.5, 3)\n",
    "} "
   ]
  },
  {
   "cell_type": "code",
   "execution_count": 36,
   "id": "45beac6c",
   "metadata": {},
   "outputs": [],
   "source": [
    "from mesa.batchrunner import batch_run\n",
    "#\n",
    "#results = batch_run(\n",
    "#    AffinityModel,\n",
    "#    parameters=params_affinity,\n",
    "#    iterations=10,\n",
    "#    max_steps=1,\n",
    "#    number_processes=None,\n",
    "#    data_collection_period=-1,\n",
    "#    display_progress=True,\n",
    "#)"
   ]
  },
  {
   "cell_type": "code",
   "execution_count": 37,
   "id": "4c9b1416",
   "metadata": {},
   "outputs": [],
   "source": [
    "#res_affinity = pd.DataFrame(results)\n",
    "#res_affinity.to_csv(\"res_affinity.csv\")"
   ]
  },
  {
   "cell_type": "code",
   "execution_count": 38,
   "id": "d74ce550",
   "metadata": {},
   "outputs": [],
   "source": [
    "res_affinity = pd.read_csv(\"res_affinity.csv\")"
   ]
  },
  {
   "cell_type": "code",
   "execution_count": 39,
   "id": "c6e2a28c",
   "metadata": {},
   "outputs": [
    {
     "data": {
      "text/plain": "       Unnamed: 0  RunId  iteration  Step jury_or_televoting  year   mu  \\\n0               0      0          0     1                  T  2021 -0.1   \n1               1      1          0     1                  T  2021 -0.1   \n2               2      2          0     1                  T  2021 -0.1   \n3               3      3          0     1                  T  2021 -0.1   \n4               4      4          0     1                  T  2021 -0.1   \n...           ...    ...        ...   ...                ...   ...  ...   \n26455       26455  26455          9     1                  T  2022  0.1   \n26456       26456  26456          9     1                  T  2022  0.1   \n26457       26457  26457          9     1                  T  2022  0.1   \n26458       26458  26458          9     1                  T  2022  0.1   \n26459       26459  26459          9     1                  T  2022  0.1   \n\n       sigma  alpha  ks_statistic        ks_pval  \n0      0.015   0.25      0.566802  1.003446e-146  \n1      0.005   0.50      0.535425  4.863312e-130  \n2      0.005   0.25      0.555668  1.151460e-140  \n3      0.025   0.00      0.568826  7.638048e-148  \n4      0.000   0.50      0.404858   8.895390e-73  \n...      ...    ...           ...            ...  \n26455  0.095   0.00      0.541538  1.899155e-131  \n26456  0.100   0.25      0.532308  9.216951e-127  \n26457  0.095   0.50      0.560000  3.971871e-141  \n26458  0.100   0.00      0.532308  9.216951e-127  \n26459  0.100   0.50      0.532308  9.216951e-127  \n\n[26460 rows x 11 columns]",
      "text/html": "<div>\n<style scoped>\n    .dataframe tbody tr th:only-of-type {\n        vertical-align: middle;\n    }\n\n    .dataframe tbody tr th {\n        vertical-align: top;\n    }\n\n    .dataframe thead th {\n        text-align: right;\n    }\n</style>\n<table border=\"1\" class=\"dataframe\">\n  <thead>\n    <tr style=\"text-align: right;\">\n      <th></th>\n      <th>Unnamed: 0</th>\n      <th>RunId</th>\n      <th>iteration</th>\n      <th>Step</th>\n      <th>jury_or_televoting</th>\n      <th>year</th>\n      <th>mu</th>\n      <th>sigma</th>\n      <th>alpha</th>\n      <th>ks_statistic</th>\n      <th>ks_pval</th>\n    </tr>\n  </thead>\n  <tbody>\n    <tr>\n      <th>0</th>\n      <td>0</td>\n      <td>0</td>\n      <td>0</td>\n      <td>1</td>\n      <td>T</td>\n      <td>2021</td>\n      <td>-0.1</td>\n      <td>0.015</td>\n      <td>0.25</td>\n      <td>0.566802</td>\n      <td>1.003446e-146</td>\n    </tr>\n    <tr>\n      <th>1</th>\n      <td>1</td>\n      <td>1</td>\n      <td>0</td>\n      <td>1</td>\n      <td>T</td>\n      <td>2021</td>\n      <td>-0.1</td>\n      <td>0.005</td>\n      <td>0.50</td>\n      <td>0.535425</td>\n      <td>4.863312e-130</td>\n    </tr>\n    <tr>\n      <th>2</th>\n      <td>2</td>\n      <td>2</td>\n      <td>0</td>\n      <td>1</td>\n      <td>T</td>\n      <td>2021</td>\n      <td>-0.1</td>\n      <td>0.005</td>\n      <td>0.25</td>\n      <td>0.555668</td>\n      <td>1.151460e-140</td>\n    </tr>\n    <tr>\n      <th>3</th>\n      <td>3</td>\n      <td>3</td>\n      <td>0</td>\n      <td>1</td>\n      <td>T</td>\n      <td>2021</td>\n      <td>-0.1</td>\n      <td>0.025</td>\n      <td>0.00</td>\n      <td>0.568826</td>\n      <td>7.638048e-148</td>\n    </tr>\n    <tr>\n      <th>4</th>\n      <td>4</td>\n      <td>4</td>\n      <td>0</td>\n      <td>1</td>\n      <td>T</td>\n      <td>2021</td>\n      <td>-0.1</td>\n      <td>0.000</td>\n      <td>0.50</td>\n      <td>0.404858</td>\n      <td>8.895390e-73</td>\n    </tr>\n    <tr>\n      <th>...</th>\n      <td>...</td>\n      <td>...</td>\n      <td>...</td>\n      <td>...</td>\n      <td>...</td>\n      <td>...</td>\n      <td>...</td>\n      <td>...</td>\n      <td>...</td>\n      <td>...</td>\n      <td>...</td>\n    </tr>\n    <tr>\n      <th>26455</th>\n      <td>26455</td>\n      <td>26455</td>\n      <td>9</td>\n      <td>1</td>\n      <td>T</td>\n      <td>2022</td>\n      <td>0.1</td>\n      <td>0.095</td>\n      <td>0.00</td>\n      <td>0.541538</td>\n      <td>1.899155e-131</td>\n    </tr>\n    <tr>\n      <th>26456</th>\n      <td>26456</td>\n      <td>26456</td>\n      <td>9</td>\n      <td>1</td>\n      <td>T</td>\n      <td>2022</td>\n      <td>0.1</td>\n      <td>0.100</td>\n      <td>0.25</td>\n      <td>0.532308</td>\n      <td>9.216951e-127</td>\n    </tr>\n    <tr>\n      <th>26457</th>\n      <td>26457</td>\n      <td>26457</td>\n      <td>9</td>\n      <td>1</td>\n      <td>T</td>\n      <td>2022</td>\n      <td>0.1</td>\n      <td>0.095</td>\n      <td>0.50</td>\n      <td>0.560000</td>\n      <td>3.971871e-141</td>\n    </tr>\n    <tr>\n      <th>26458</th>\n      <td>26458</td>\n      <td>26458</td>\n      <td>9</td>\n      <td>1</td>\n      <td>T</td>\n      <td>2022</td>\n      <td>0.1</td>\n      <td>0.100</td>\n      <td>0.00</td>\n      <td>0.532308</td>\n      <td>9.216951e-127</td>\n    </tr>\n    <tr>\n      <th>26459</th>\n      <td>26459</td>\n      <td>26459</td>\n      <td>9</td>\n      <td>1</td>\n      <td>T</td>\n      <td>2022</td>\n      <td>0.1</td>\n      <td>0.100</td>\n      <td>0.50</td>\n      <td>0.532308</td>\n      <td>9.216951e-127</td>\n    </tr>\n  </tbody>\n</table>\n<p>26460 rows × 11 columns</p>\n</div>"
     },
     "metadata": {},
     "output_type": "display_data"
    }
   ],
   "source": [
    "display(res_affinity)"
   ]
  },
  {
   "cell_type": "code",
   "execution_count": 40,
   "id": "16279100",
   "metadata": {},
   "outputs": [],
   "source": [
    "df_affinity_2021 = res_affinity[res_affinity[\"year\"] == 2021]\n",
    "df_affinity_2022 = res_affinity[res_affinity[\"year\"] == 2022]\n",
    "\n",
    "\n",
    "kses_2021 = df_affinity_2021[\"ks_statistic\"]\n",
    "kses_2022 = df_affinity_2022[\"ks_statistic\"]"
   ]
  },
  {
   "cell_type": "code",
   "execution_count": 41,
   "id": "7f78dc40",
   "metadata": {},
   "outputs": [
    {
     "data": {
      "text/plain": "Unnamed: 0                2900\nRunId                     2900\niteration                    1\nStep                         1\njury_or_televoting           T\nyear                      2021\nmu                       -0.06\nsigma                      0.0\nalpha                      0.5\nks_statistic          0.362348\nks_pval                    0.0\nName: 2900, dtype: object"
     },
     "execution_count": 41,
     "metadata": {},
     "output_type": "execute_result"
    }
   ],
   "source": [
    "df_affinity_2021.loc[kses_2021.idxmin()]"
   ]
  },
  {
   "cell_type": "code",
   "execution_count": 42,
   "id": "5b2ca351",
   "metadata": {},
   "outputs": [
    {
     "data": {
      "text/plain": "Unnamed: 0               20791\nRunId                    20791\niteration                    7\nStep                         1\njury_or_televoting           T\nyear                      2022\nmu                        0.05\nsigma                      0.0\nalpha                     0.25\nks_statistic          0.348718\nks_pval                    0.0\nName: 20791, dtype: object"
     },
     "execution_count": 42,
     "metadata": {},
     "output_type": "execute_result"
    }
   ],
   "source": [
    "df_affinity_2022.loc[kses_2022.idxmin()]"
   ]
  },
  {
   "cell_type": "markdown",
   "id": "e4401857",
   "metadata": {},
   "source": [
    "## R^2 for the found indices\n",
    "\n",
    "We now need to get the R^2 for these two indices by comparing FoF and simulated FoF."
   ]
  },
  {
   "cell_type": "code",
   "execution_count": 43,
   "outputs": [],
   "source": [
    "from sklearn.metrics import r2_score"
   ],
   "metadata": {
    "collapsed": false,
    "pycharm": {
     "name": "#%%\n"
    }
   }
  },
  {
   "cell_type": "markdown",
   "source": [
    "R^2 of best Null Model 2021"
   ],
   "metadata": {
    "collapsed": false
   }
  },
  {
   "cell_type": "code",
   "execution_count": 44,
   "outputs": [],
   "source": [
    "best_null_model = NullVotingModel(jury_or_televoting=\"T\", year=2021)\n",
    "\n",
    "best_null_model.step()"
   ],
   "metadata": {
    "collapsed": false,
    "pycharm": {
     "name": "#%%\n"
    }
   }
  },
  {
   "cell_type": "code",
   "execution_count": 45,
   "outputs": [
    {
     "data": {
      "text/plain": "       Unnamed: 0  Unnamed: 0.1  Year semi_or_final Edition  \\\n50820       50820         50820  2021             f   2021f   \n50821       50821         50821  2021             f   2021f   \n50822       50822         50822  2021             f   2021f   \n50823       50823         50823  2021             f   2021f   \n50824       50824         50824  2021             f   2021f   \n...           ...           ...   ...           ...     ...   \n51803       51803         51803  2021             f   2021f   \n51804       51804         51804  2021             f   2021f   \n51805       51805         51805  2021             f   2021f   \n51806       51806         51806  2021             f   2021f   \n51807       51807         51807  2021             f   2021f   \n\n      jury_or_televoting             from              to  points Duplicate  \\\n50820                  T        Australia         Albania       0       NaN   \n50821                  T          Austria         Albania       0       NaN   \n50822                  T       Azerbaijan         Albania       0       NaN   \n50823                  T          Belgium         Albania       0       NaN   \n50824                  T         Bulgaria         Albania       0       NaN   \n...                  ...              ...             ...     ...       ...   \n51803                  T            Spain  United Kingdom       0       NaN   \n51804                  T           Sweden  United Kingdom       0       NaN   \n51805                  T      Switzerland  United Kingdom       0       NaN   \n51806                  T  The Netherlands  United Kingdom       0       NaN   \n51807                  T          Ukraine  United Kingdom       0       NaN   \n\n       null_model_points       FoF  null_model_FoF  \n50820           1.240958 -0.078829       -0.117494  \n50821           2.563725 -0.078829       -0.004284  \n50822           2.870115 -0.078829        0.021938  \n50823           3.114643 -0.078829        0.042866  \n50824           4.755444 -0.078829        0.183295  \n...                  ...       ...             ...  \n51803           3.273280  0.000000        0.080025  \n51804           2.586689  0.000000        0.021263  \n51805           0.768029  0.000000       -0.134388  \n51806           0.822677  0.000000       -0.129711  \n51807           4.660622  0.000000        0.198762  \n\n[988 rows x 13 columns]",
      "text/html": "<div>\n<style scoped>\n    .dataframe tbody tr th:only-of-type {\n        vertical-align: middle;\n    }\n\n    .dataframe tbody tr th {\n        vertical-align: top;\n    }\n\n    .dataframe thead th {\n        text-align: right;\n    }\n</style>\n<table border=\"1\" class=\"dataframe\">\n  <thead>\n    <tr style=\"text-align: right;\">\n      <th></th>\n      <th>Unnamed: 0</th>\n      <th>Unnamed: 0.1</th>\n      <th>Year</th>\n      <th>semi_or_final</th>\n      <th>Edition</th>\n      <th>jury_or_televoting</th>\n      <th>from</th>\n      <th>to</th>\n      <th>points</th>\n      <th>Duplicate</th>\n      <th>null_model_points</th>\n      <th>FoF</th>\n      <th>null_model_FoF</th>\n    </tr>\n  </thead>\n  <tbody>\n    <tr>\n      <th>50820</th>\n      <td>50820</td>\n      <td>50820</td>\n      <td>2021</td>\n      <td>f</td>\n      <td>2021f</td>\n      <td>T</td>\n      <td>Australia</td>\n      <td>Albania</td>\n      <td>0</td>\n      <td>NaN</td>\n      <td>1.240958</td>\n      <td>-0.078829</td>\n      <td>-0.117494</td>\n    </tr>\n    <tr>\n      <th>50821</th>\n      <td>50821</td>\n      <td>50821</td>\n      <td>2021</td>\n      <td>f</td>\n      <td>2021f</td>\n      <td>T</td>\n      <td>Austria</td>\n      <td>Albania</td>\n      <td>0</td>\n      <td>NaN</td>\n      <td>2.563725</td>\n      <td>-0.078829</td>\n      <td>-0.004284</td>\n    </tr>\n    <tr>\n      <th>50822</th>\n      <td>50822</td>\n      <td>50822</td>\n      <td>2021</td>\n      <td>f</td>\n      <td>2021f</td>\n      <td>T</td>\n      <td>Azerbaijan</td>\n      <td>Albania</td>\n      <td>0</td>\n      <td>NaN</td>\n      <td>2.870115</td>\n      <td>-0.078829</td>\n      <td>0.021938</td>\n    </tr>\n    <tr>\n      <th>50823</th>\n      <td>50823</td>\n      <td>50823</td>\n      <td>2021</td>\n      <td>f</td>\n      <td>2021f</td>\n      <td>T</td>\n      <td>Belgium</td>\n      <td>Albania</td>\n      <td>0</td>\n      <td>NaN</td>\n      <td>3.114643</td>\n      <td>-0.078829</td>\n      <td>0.042866</td>\n    </tr>\n    <tr>\n      <th>50824</th>\n      <td>50824</td>\n      <td>50824</td>\n      <td>2021</td>\n      <td>f</td>\n      <td>2021f</td>\n      <td>T</td>\n      <td>Bulgaria</td>\n      <td>Albania</td>\n      <td>0</td>\n      <td>NaN</td>\n      <td>4.755444</td>\n      <td>-0.078829</td>\n      <td>0.183295</td>\n    </tr>\n    <tr>\n      <th>...</th>\n      <td>...</td>\n      <td>...</td>\n      <td>...</td>\n      <td>...</td>\n      <td>...</td>\n      <td>...</td>\n      <td>...</td>\n      <td>...</td>\n      <td>...</td>\n      <td>...</td>\n      <td>...</td>\n      <td>...</td>\n      <td>...</td>\n    </tr>\n    <tr>\n      <th>51803</th>\n      <td>51803</td>\n      <td>51803</td>\n      <td>2021</td>\n      <td>f</td>\n      <td>2021f</td>\n      <td>T</td>\n      <td>Spain</td>\n      <td>United Kingdom</td>\n      <td>0</td>\n      <td>NaN</td>\n      <td>3.273280</td>\n      <td>0.000000</td>\n      <td>0.080025</td>\n    </tr>\n    <tr>\n      <th>51804</th>\n      <td>51804</td>\n      <td>51804</td>\n      <td>2021</td>\n      <td>f</td>\n      <td>2021f</td>\n      <td>T</td>\n      <td>Sweden</td>\n      <td>United Kingdom</td>\n      <td>0</td>\n      <td>NaN</td>\n      <td>2.586689</td>\n      <td>0.000000</td>\n      <td>0.021263</td>\n    </tr>\n    <tr>\n      <th>51805</th>\n      <td>51805</td>\n      <td>51805</td>\n      <td>2021</td>\n      <td>f</td>\n      <td>2021f</td>\n      <td>T</td>\n      <td>Switzerland</td>\n      <td>United Kingdom</td>\n      <td>0</td>\n      <td>NaN</td>\n      <td>0.768029</td>\n      <td>0.000000</td>\n      <td>-0.134388</td>\n    </tr>\n    <tr>\n      <th>51806</th>\n      <td>51806</td>\n      <td>51806</td>\n      <td>2021</td>\n      <td>f</td>\n      <td>2021f</td>\n      <td>T</td>\n      <td>The Netherlands</td>\n      <td>United Kingdom</td>\n      <td>0</td>\n      <td>NaN</td>\n      <td>0.822677</td>\n      <td>0.000000</td>\n      <td>-0.129711</td>\n    </tr>\n    <tr>\n      <th>51807</th>\n      <td>51807</td>\n      <td>51807</td>\n      <td>2021</td>\n      <td>f</td>\n      <td>2021f</td>\n      <td>T</td>\n      <td>Ukraine</td>\n      <td>United Kingdom</td>\n      <td>0</td>\n      <td>NaN</td>\n      <td>4.660622</td>\n      <td>0.000000</td>\n      <td>0.198762</td>\n    </tr>\n  </tbody>\n</table>\n<p>988 rows × 13 columns</p>\n</div>"
     },
     "execution_count": 45,
     "metadata": {},
     "output_type": "execute_result"
    }
   ],
   "source": [
    "best_null_model.df"
   ],
   "metadata": {
    "collapsed": false,
    "pycharm": {
     "name": "#%%\n"
    }
   }
  },
  {
   "cell_type": "code",
   "execution_count": 46,
   "outputs": [
    {
     "data": {
      "text/plain": "-0.2578926752384363"
     },
     "execution_count": 46,
     "metadata": {},
     "output_type": "execute_result"
    }
   ],
   "source": [
    "FoF_true = best_null_model.df[\"FoF\"]\n",
    "FoF_pred = best_null_model.df[\"null_model_FoF\"]\n",
    "\n",
    "r2_score(FoF_true, FoF_pred)"
   ],
   "metadata": {
    "collapsed": false,
    "pycharm": {
     "name": "#%%\n"
    }
   }
  },
  {
   "cell_type": "markdown",
   "source": [
    "R^2 of best Null Model 2022"
   ],
   "metadata": {
    "collapsed": false
   }
  },
  {
   "cell_type": "code",
   "execution_count": 63,
   "outputs": [],
   "source": [
    "best_null_model = NullVotingModel(jury_or_televoting=\"T\", year=2022)\n",
    "\n",
    "best_null_model.step()"
   ],
   "metadata": {
    "collapsed": false,
    "pycharm": {
     "name": "#%%\n"
    }
   }
  },
  {
   "cell_type": "code",
   "execution_count": 64,
   "outputs": [
    {
     "data": {
      "text/plain": "       Unnamed: 0  Unnamed: 0.1  Year semi_or_final Edition  \\\n54387       54387         54387  2022             f   2022f   \n54388       54388         54388  2022             f   2022f   \n54389       54389         54389  2022             f   2022f   \n54390       54390         54390  2022             f   2022f   \n54391       54391         54391  2022             f   2022f   \n...           ...           ...   ...           ...     ...   \n56307       56307         56307  2022             f   2022f   \n56308       56308         56308  2022             f   2022f   \n56309       56309         56309  2022             f   2022f   \n56310       56310         56310  2022             f   2022f   \n56311       56311         56311  2022             f   2022f   \n\n      jury_or_televoting            from              to  points Duplicate  \\\n54387                  T         Albania         Armenia       0       NaN   \n54388                  T         Albania       Australia       0       NaN   \n54389                  T         Albania      Azerbaijan       0       NaN   \n54390                  T         Albania         Belgium       0       NaN   \n54391                  T         Albania  Czech Republic       0       NaN   \n...                  ...             ...             ...     ...       ...   \n56307                  T  United Kingdom          Serbia       1       NaN   \n56308                  T  United Kingdom           Spain       5       NaN   \n56309                  T  United Kingdom          Sweden       4       NaN   \n56310                  T  United Kingdom     Switzerland       0       NaN   \n56311                  T  United Kingdom         Ukraine      12       NaN   \n\n       null_model_points       FoF  null_model_FoF  \n54387           0.633757 -0.046053       -0.142262  \n54388           2.455183 -0.004386        0.046011  \n54389           0.947754 -0.006579       -0.113455  \n54390           1.856861 -0.010965       -0.019653  \n54391           1.633645 -0.010965       -0.078506  \n...                  ...       ...             ...  \n56307           0.243919 -0.407895       -0.206721  \n56308           3.857890 -0.050439        0.111350  \n56309           3.273740 -0.050439        0.083532  \n56310           0.931384  0.000000       -0.113684  \n56311           4.292826  0.078947        0.142756  \n\n[975 rows x 13 columns]",
      "text/html": "<div>\n<style scoped>\n    .dataframe tbody tr th:only-of-type {\n        vertical-align: middle;\n    }\n\n    .dataframe tbody tr th {\n        vertical-align: top;\n    }\n\n    .dataframe thead th {\n        text-align: right;\n    }\n</style>\n<table border=\"1\" class=\"dataframe\">\n  <thead>\n    <tr style=\"text-align: right;\">\n      <th></th>\n      <th>Unnamed: 0</th>\n      <th>Unnamed: 0.1</th>\n      <th>Year</th>\n      <th>semi_or_final</th>\n      <th>Edition</th>\n      <th>jury_or_televoting</th>\n      <th>from</th>\n      <th>to</th>\n      <th>points</th>\n      <th>Duplicate</th>\n      <th>null_model_points</th>\n      <th>FoF</th>\n      <th>null_model_FoF</th>\n    </tr>\n  </thead>\n  <tbody>\n    <tr>\n      <th>54387</th>\n      <td>54387</td>\n      <td>54387</td>\n      <td>2022</td>\n      <td>f</td>\n      <td>2022f</td>\n      <td>T</td>\n      <td>Albania</td>\n      <td>Armenia</td>\n      <td>0</td>\n      <td>NaN</td>\n      <td>0.633757</td>\n      <td>-0.046053</td>\n      <td>-0.142262</td>\n    </tr>\n    <tr>\n      <th>54388</th>\n      <td>54388</td>\n      <td>54388</td>\n      <td>2022</td>\n      <td>f</td>\n      <td>2022f</td>\n      <td>T</td>\n      <td>Albania</td>\n      <td>Australia</td>\n      <td>0</td>\n      <td>NaN</td>\n      <td>2.455183</td>\n      <td>-0.004386</td>\n      <td>0.046011</td>\n    </tr>\n    <tr>\n      <th>54389</th>\n      <td>54389</td>\n      <td>54389</td>\n      <td>2022</td>\n      <td>f</td>\n      <td>2022f</td>\n      <td>T</td>\n      <td>Albania</td>\n      <td>Azerbaijan</td>\n      <td>0</td>\n      <td>NaN</td>\n      <td>0.947754</td>\n      <td>-0.006579</td>\n      <td>-0.113455</td>\n    </tr>\n    <tr>\n      <th>54390</th>\n      <td>54390</td>\n      <td>54390</td>\n      <td>2022</td>\n      <td>f</td>\n      <td>2022f</td>\n      <td>T</td>\n      <td>Albania</td>\n      <td>Belgium</td>\n      <td>0</td>\n      <td>NaN</td>\n      <td>1.856861</td>\n      <td>-0.010965</td>\n      <td>-0.019653</td>\n    </tr>\n    <tr>\n      <th>54391</th>\n      <td>54391</td>\n      <td>54391</td>\n      <td>2022</td>\n      <td>f</td>\n      <td>2022f</td>\n      <td>T</td>\n      <td>Albania</td>\n      <td>Czech Republic</td>\n      <td>0</td>\n      <td>NaN</td>\n      <td>1.633645</td>\n      <td>-0.010965</td>\n      <td>-0.078506</td>\n    </tr>\n    <tr>\n      <th>...</th>\n      <td>...</td>\n      <td>...</td>\n      <td>...</td>\n      <td>...</td>\n      <td>...</td>\n      <td>...</td>\n      <td>...</td>\n      <td>...</td>\n      <td>...</td>\n      <td>...</td>\n      <td>...</td>\n      <td>...</td>\n      <td>...</td>\n    </tr>\n    <tr>\n      <th>56307</th>\n      <td>56307</td>\n      <td>56307</td>\n      <td>2022</td>\n      <td>f</td>\n      <td>2022f</td>\n      <td>T</td>\n      <td>United Kingdom</td>\n      <td>Serbia</td>\n      <td>1</td>\n      <td>NaN</td>\n      <td>0.243919</td>\n      <td>-0.407895</td>\n      <td>-0.206721</td>\n    </tr>\n    <tr>\n      <th>56308</th>\n      <td>56308</td>\n      <td>56308</td>\n      <td>2022</td>\n      <td>f</td>\n      <td>2022f</td>\n      <td>T</td>\n      <td>United Kingdom</td>\n      <td>Spain</td>\n      <td>5</td>\n      <td>NaN</td>\n      <td>3.857890</td>\n      <td>-0.050439</td>\n      <td>0.111350</td>\n    </tr>\n    <tr>\n      <th>56309</th>\n      <td>56309</td>\n      <td>56309</td>\n      <td>2022</td>\n      <td>f</td>\n      <td>2022f</td>\n      <td>T</td>\n      <td>United Kingdom</td>\n      <td>Sweden</td>\n      <td>4</td>\n      <td>NaN</td>\n      <td>3.273740</td>\n      <td>-0.050439</td>\n      <td>0.083532</td>\n    </tr>\n    <tr>\n      <th>56310</th>\n      <td>56310</td>\n      <td>56310</td>\n      <td>2022</td>\n      <td>f</td>\n      <td>2022f</td>\n      <td>T</td>\n      <td>United Kingdom</td>\n      <td>Switzerland</td>\n      <td>0</td>\n      <td>NaN</td>\n      <td>0.931384</td>\n      <td>0.000000</td>\n      <td>-0.113684</td>\n    </tr>\n    <tr>\n      <th>56311</th>\n      <td>56311</td>\n      <td>56311</td>\n      <td>2022</td>\n      <td>f</td>\n      <td>2022f</td>\n      <td>T</td>\n      <td>United Kingdom</td>\n      <td>Ukraine</td>\n      <td>12</td>\n      <td>NaN</td>\n      <td>4.292826</td>\n      <td>0.078947</td>\n      <td>0.142756</td>\n    </tr>\n  </tbody>\n</table>\n<p>975 rows × 13 columns</p>\n</div>"
     },
     "execution_count": 64,
     "metadata": {},
     "output_type": "execute_result"
    }
   ],
   "source": [
    "best_null_model.df"
   ],
   "metadata": {
    "collapsed": false,
    "pycharm": {
     "name": "#%%\n"
    }
   }
  },
  {
   "cell_type": "code",
   "execution_count": 65,
   "outputs": [
    {
     "data": {
      "text/plain": "-0.31812641018011356"
     },
     "execution_count": 65,
     "metadata": {},
     "output_type": "execute_result"
    }
   ],
   "source": [
    "FoF_true = best_null_model.df[\"FoF\"]\n",
    "FoF_pred = best_null_model.df[\"null_model_FoF\"]\n",
    "\n",
    "r2_score(FoF_true, FoF_pred)"
   ],
   "metadata": {
    "collapsed": false,
    "pycharm": {
     "name": "#%%\n"
    }
   }
  },
  {
   "cell_type": "markdown",
   "source": [
    "R^2 of best Model1 2021"
   ],
   "metadata": {
    "collapsed": false
   }
  },
  {
   "cell_type": "code",
   "execution_count": 66,
   "outputs": [],
   "source": [
    "best_model1_model = Model1Model(jury_or_televoting=\"T\", year=2021)\n",
    "\n",
    "best_model1_model.step()"
   ],
   "metadata": {
    "collapsed": false,
    "pycharm": {
     "name": "#%%\n"
    }
   }
  },
  {
   "cell_type": "code",
   "execution_count": 67,
   "outputs": [
    {
     "data": {
      "text/plain": "       Unnamed: 0  Unnamed: 0.1  Year semi_or_final Edition  \\\n50820       50820         50820  2021             f   2021f   \n50821       50821         50821  2021             f   2021f   \n50822       50822         50822  2021             f   2021f   \n50823       50823         50823  2021             f   2021f   \n50824       50824         50824  2021             f   2021f   \n...           ...           ...   ...           ...     ...   \n51803       51803         51803  2021             f   2021f   \n51804       51804         51804  2021             f   2021f   \n51805       51805         51805  2021             f   2021f   \n51806       51806         51806  2021             f   2021f   \n51807       51807         51807  2021             f   2021f   \n\n      jury_or_televoting             from              to  points Duplicate  \\\n50820                  T        Australia         Albania       0       NaN   \n50821                  T          Austria         Albania       0       NaN   \n50822                  T       Azerbaijan         Albania       0       NaN   \n50823                  T          Belgium         Albania       0       NaN   \n50824                  T         Bulgaria         Albania       0       NaN   \n...                  ...              ...             ...     ...       ...   \n51803                  T            Spain  United Kingdom       0       NaN   \n51804                  T           Sweden  United Kingdom       0       NaN   \n51805                  T      Switzerland  United Kingdom       0       NaN   \n51806                  T  The Netherlands  United Kingdom       0       NaN   \n51807                  T          Ukraine  United Kingdom       0       NaN   \n\n       model1_points       FoF  model1_FoF  \n50820              2 -0.078829   -0.027027  \n50821              0 -0.078829   -0.198198  \n50822             12 -0.078829    0.828829  \n50823              5 -0.078829    0.229730  \n50824              6 -0.078829    0.315315  \n...              ...       ...         ...  \n51803             12  0.000000    0.871622  \n51804              0  0.000000   -0.155405  \n51805              0  0.000000   -0.155405  \n51806              0  0.000000   -0.155405  \n51807              1  0.000000   -0.069820  \n\n[988 rows x 13 columns]",
      "text/html": "<div>\n<style scoped>\n    .dataframe tbody tr th:only-of-type {\n        vertical-align: middle;\n    }\n\n    .dataframe tbody tr th {\n        vertical-align: top;\n    }\n\n    .dataframe thead th {\n        text-align: right;\n    }\n</style>\n<table border=\"1\" class=\"dataframe\">\n  <thead>\n    <tr style=\"text-align: right;\">\n      <th></th>\n      <th>Unnamed: 0</th>\n      <th>Unnamed: 0.1</th>\n      <th>Year</th>\n      <th>semi_or_final</th>\n      <th>Edition</th>\n      <th>jury_or_televoting</th>\n      <th>from</th>\n      <th>to</th>\n      <th>points</th>\n      <th>Duplicate</th>\n      <th>model1_points</th>\n      <th>FoF</th>\n      <th>model1_FoF</th>\n    </tr>\n  </thead>\n  <tbody>\n    <tr>\n      <th>50820</th>\n      <td>50820</td>\n      <td>50820</td>\n      <td>2021</td>\n      <td>f</td>\n      <td>2021f</td>\n      <td>T</td>\n      <td>Australia</td>\n      <td>Albania</td>\n      <td>0</td>\n      <td>NaN</td>\n      <td>2</td>\n      <td>-0.078829</td>\n      <td>-0.027027</td>\n    </tr>\n    <tr>\n      <th>50821</th>\n      <td>50821</td>\n      <td>50821</td>\n      <td>2021</td>\n      <td>f</td>\n      <td>2021f</td>\n      <td>T</td>\n      <td>Austria</td>\n      <td>Albania</td>\n      <td>0</td>\n      <td>NaN</td>\n      <td>0</td>\n      <td>-0.078829</td>\n      <td>-0.198198</td>\n    </tr>\n    <tr>\n      <th>50822</th>\n      <td>50822</td>\n      <td>50822</td>\n      <td>2021</td>\n      <td>f</td>\n      <td>2021f</td>\n      <td>T</td>\n      <td>Azerbaijan</td>\n      <td>Albania</td>\n      <td>0</td>\n      <td>NaN</td>\n      <td>12</td>\n      <td>-0.078829</td>\n      <td>0.828829</td>\n    </tr>\n    <tr>\n      <th>50823</th>\n      <td>50823</td>\n      <td>50823</td>\n      <td>2021</td>\n      <td>f</td>\n      <td>2021f</td>\n      <td>T</td>\n      <td>Belgium</td>\n      <td>Albania</td>\n      <td>0</td>\n      <td>NaN</td>\n      <td>5</td>\n      <td>-0.078829</td>\n      <td>0.229730</td>\n    </tr>\n    <tr>\n      <th>50824</th>\n      <td>50824</td>\n      <td>50824</td>\n      <td>2021</td>\n      <td>f</td>\n      <td>2021f</td>\n      <td>T</td>\n      <td>Bulgaria</td>\n      <td>Albania</td>\n      <td>0</td>\n      <td>NaN</td>\n      <td>6</td>\n      <td>-0.078829</td>\n      <td>0.315315</td>\n    </tr>\n    <tr>\n      <th>...</th>\n      <td>...</td>\n      <td>...</td>\n      <td>...</td>\n      <td>...</td>\n      <td>...</td>\n      <td>...</td>\n      <td>...</td>\n      <td>...</td>\n      <td>...</td>\n      <td>...</td>\n      <td>...</td>\n      <td>...</td>\n      <td>...</td>\n    </tr>\n    <tr>\n      <th>51803</th>\n      <td>51803</td>\n      <td>51803</td>\n      <td>2021</td>\n      <td>f</td>\n      <td>2021f</td>\n      <td>T</td>\n      <td>Spain</td>\n      <td>United Kingdom</td>\n      <td>0</td>\n      <td>NaN</td>\n      <td>12</td>\n      <td>0.000000</td>\n      <td>0.871622</td>\n    </tr>\n    <tr>\n      <th>51804</th>\n      <td>51804</td>\n      <td>51804</td>\n      <td>2021</td>\n      <td>f</td>\n      <td>2021f</td>\n      <td>T</td>\n      <td>Sweden</td>\n      <td>United Kingdom</td>\n      <td>0</td>\n      <td>NaN</td>\n      <td>0</td>\n      <td>0.000000</td>\n      <td>-0.155405</td>\n    </tr>\n    <tr>\n      <th>51805</th>\n      <td>51805</td>\n      <td>51805</td>\n      <td>2021</td>\n      <td>f</td>\n      <td>2021f</td>\n      <td>T</td>\n      <td>Switzerland</td>\n      <td>United Kingdom</td>\n      <td>0</td>\n      <td>NaN</td>\n      <td>0</td>\n      <td>0.000000</td>\n      <td>-0.155405</td>\n    </tr>\n    <tr>\n      <th>51806</th>\n      <td>51806</td>\n      <td>51806</td>\n      <td>2021</td>\n      <td>f</td>\n      <td>2021f</td>\n      <td>T</td>\n      <td>The Netherlands</td>\n      <td>United Kingdom</td>\n      <td>0</td>\n      <td>NaN</td>\n      <td>0</td>\n      <td>0.000000</td>\n      <td>-0.155405</td>\n    </tr>\n    <tr>\n      <th>51807</th>\n      <td>51807</td>\n      <td>51807</td>\n      <td>2021</td>\n      <td>f</td>\n      <td>2021f</td>\n      <td>T</td>\n      <td>Ukraine</td>\n      <td>United Kingdom</td>\n      <td>0</td>\n      <td>NaN</td>\n      <td>1</td>\n      <td>0.000000</td>\n      <td>-0.069820</td>\n    </tr>\n  </tbody>\n</table>\n<p>988 rows × 13 columns</p>\n</div>"
     },
     "execution_count": 67,
     "metadata": {},
     "output_type": "execute_result"
    }
   ],
   "source": [
    "best_model1_model.df"
   ],
   "metadata": {
    "collapsed": false,
    "pycharm": {
     "name": "#%%\n"
    }
   }
  },
  {
   "cell_type": "code",
   "execution_count": 68,
   "outputs": [
    {
     "data": {
      "text/plain": "-1.678316554097107"
     },
     "execution_count": 68,
     "metadata": {},
     "output_type": "execute_result"
    }
   ],
   "source": [
    "FoF_true = best_model1_model.df[\"FoF\"]\n",
    "FoF_pred = best_model1_model.df[\"model1_FoF\"]\n",
    "\n",
    "r2_score(FoF_true, FoF_pred)"
   ],
   "metadata": {
    "collapsed": false,
    "pycharm": {
     "name": "#%%\n"
    }
   }
  },
  {
   "cell_type": "markdown",
   "source": [
    "R^2 of best Model1 2022"
   ],
   "metadata": {
    "collapsed": false
   }
  },
  {
   "cell_type": "code",
   "execution_count": 69,
   "outputs": [],
   "source": [
    "best_model1_model = Model1Model(jury_or_televoting=\"T\", year=2022)\n",
    "\n",
    "best_model1_model.step()"
   ],
   "metadata": {
    "collapsed": false,
    "pycharm": {
     "name": "#%%\n"
    }
   }
  },
  {
   "cell_type": "code",
   "execution_count": 70,
   "outputs": [
    {
     "data": {
      "text/plain": "       Unnamed: 0  Unnamed: 0.1  Year semi_or_final Edition  \\\n54387       54387         54387  2022             f   2022f   \n54388       54388         54388  2022             f   2022f   \n54389       54389         54389  2022             f   2022f   \n54390       54390         54390  2022             f   2022f   \n54391       54391         54391  2022             f   2022f   \n...           ...           ...   ...           ...     ...   \n56307       56307         56307  2022             f   2022f   \n56308       56308         56308  2022             f   2022f   \n56309       56309         56309  2022             f   2022f   \n56310       56310         56310  2022             f   2022f   \n56311       56311         56311  2022             f   2022f   \n\n      jury_or_televoting            from              to  points Duplicate  \\\n54387                  T         Albania         Armenia       0       NaN   \n54388                  T         Albania       Australia       0       NaN   \n54389                  T         Albania      Azerbaijan       0       NaN   \n54390                  T         Albania         Belgium       0       NaN   \n54391                  T         Albania  Czech Republic       0       NaN   \n...                  ...             ...             ...     ...       ...   \n56307                  T  United Kingdom          Serbia       1       NaN   \n56308                  T  United Kingdom           Spain       5       NaN   \n56309                  T  United Kingdom          Sweden       4       NaN   \n56310                  T  United Kingdom     Switzerland       0       NaN   \n56311                  T  United Kingdom         Ukraine      12       NaN   \n\n       model1_points       FoF  model1_FoF  \n54387              0 -0.046053   -0.173246  \n54388              2 -0.004386    0.017544  \n54389              1 -0.006579   -0.028509  \n54390              6 -0.010965    0.228070  \n54391              0 -0.010965   -0.287281  \n...              ...       ...         ...  \n56307              0 -0.407895   -0.081140  \n56308              0 -0.050439   -0.175439  \n56309              0 -0.050439   -0.157895  \n56310              5  0.000000    0.210526  \n56311              0  0.078947   -0.252193  \n\n[975 rows x 13 columns]",
      "text/html": "<div>\n<style scoped>\n    .dataframe tbody tr th:only-of-type {\n        vertical-align: middle;\n    }\n\n    .dataframe tbody tr th {\n        vertical-align: top;\n    }\n\n    .dataframe thead th {\n        text-align: right;\n    }\n</style>\n<table border=\"1\" class=\"dataframe\">\n  <thead>\n    <tr style=\"text-align: right;\">\n      <th></th>\n      <th>Unnamed: 0</th>\n      <th>Unnamed: 0.1</th>\n      <th>Year</th>\n      <th>semi_or_final</th>\n      <th>Edition</th>\n      <th>jury_or_televoting</th>\n      <th>from</th>\n      <th>to</th>\n      <th>points</th>\n      <th>Duplicate</th>\n      <th>model1_points</th>\n      <th>FoF</th>\n      <th>model1_FoF</th>\n    </tr>\n  </thead>\n  <tbody>\n    <tr>\n      <th>54387</th>\n      <td>54387</td>\n      <td>54387</td>\n      <td>2022</td>\n      <td>f</td>\n      <td>2022f</td>\n      <td>T</td>\n      <td>Albania</td>\n      <td>Armenia</td>\n      <td>0</td>\n      <td>NaN</td>\n      <td>0</td>\n      <td>-0.046053</td>\n      <td>-0.173246</td>\n    </tr>\n    <tr>\n      <th>54388</th>\n      <td>54388</td>\n      <td>54388</td>\n      <td>2022</td>\n      <td>f</td>\n      <td>2022f</td>\n      <td>T</td>\n      <td>Albania</td>\n      <td>Australia</td>\n      <td>0</td>\n      <td>NaN</td>\n      <td>2</td>\n      <td>-0.004386</td>\n      <td>0.017544</td>\n    </tr>\n    <tr>\n      <th>54389</th>\n      <td>54389</td>\n      <td>54389</td>\n      <td>2022</td>\n      <td>f</td>\n      <td>2022f</td>\n      <td>T</td>\n      <td>Albania</td>\n      <td>Azerbaijan</td>\n      <td>0</td>\n      <td>NaN</td>\n      <td>1</td>\n      <td>-0.006579</td>\n      <td>-0.028509</td>\n    </tr>\n    <tr>\n      <th>54390</th>\n      <td>54390</td>\n      <td>54390</td>\n      <td>2022</td>\n      <td>f</td>\n      <td>2022f</td>\n      <td>T</td>\n      <td>Albania</td>\n      <td>Belgium</td>\n      <td>0</td>\n      <td>NaN</td>\n      <td>6</td>\n      <td>-0.010965</td>\n      <td>0.228070</td>\n    </tr>\n    <tr>\n      <th>54391</th>\n      <td>54391</td>\n      <td>54391</td>\n      <td>2022</td>\n      <td>f</td>\n      <td>2022f</td>\n      <td>T</td>\n      <td>Albania</td>\n      <td>Czech Republic</td>\n      <td>0</td>\n      <td>NaN</td>\n      <td>0</td>\n      <td>-0.010965</td>\n      <td>-0.287281</td>\n    </tr>\n    <tr>\n      <th>...</th>\n      <td>...</td>\n      <td>...</td>\n      <td>...</td>\n      <td>...</td>\n      <td>...</td>\n      <td>...</td>\n      <td>...</td>\n      <td>...</td>\n      <td>...</td>\n      <td>...</td>\n      <td>...</td>\n      <td>...</td>\n      <td>...</td>\n    </tr>\n    <tr>\n      <th>56307</th>\n      <td>56307</td>\n      <td>56307</td>\n      <td>2022</td>\n      <td>f</td>\n      <td>2022f</td>\n      <td>T</td>\n      <td>United Kingdom</td>\n      <td>Serbia</td>\n      <td>1</td>\n      <td>NaN</td>\n      <td>0</td>\n      <td>-0.407895</td>\n      <td>-0.081140</td>\n    </tr>\n    <tr>\n      <th>56308</th>\n      <td>56308</td>\n      <td>56308</td>\n      <td>2022</td>\n      <td>f</td>\n      <td>2022f</td>\n      <td>T</td>\n      <td>United Kingdom</td>\n      <td>Spain</td>\n      <td>5</td>\n      <td>NaN</td>\n      <td>0</td>\n      <td>-0.050439</td>\n      <td>-0.175439</td>\n    </tr>\n    <tr>\n      <th>56309</th>\n      <td>56309</td>\n      <td>56309</td>\n      <td>2022</td>\n      <td>f</td>\n      <td>2022f</td>\n      <td>T</td>\n      <td>United Kingdom</td>\n      <td>Sweden</td>\n      <td>4</td>\n      <td>NaN</td>\n      <td>0</td>\n      <td>-0.050439</td>\n      <td>-0.157895</td>\n    </tr>\n    <tr>\n      <th>56310</th>\n      <td>56310</td>\n      <td>56310</td>\n      <td>2022</td>\n      <td>f</td>\n      <td>2022f</td>\n      <td>T</td>\n      <td>United Kingdom</td>\n      <td>Switzerland</td>\n      <td>0</td>\n      <td>NaN</td>\n      <td>5</td>\n      <td>0.000000</td>\n      <td>0.210526</td>\n    </tr>\n    <tr>\n      <th>56311</th>\n      <td>56311</td>\n      <td>56311</td>\n      <td>2022</td>\n      <td>f</td>\n      <td>2022f</td>\n      <td>T</td>\n      <td>United Kingdom</td>\n      <td>Ukraine</td>\n      <td>12</td>\n      <td>NaN</td>\n      <td>0</td>\n      <td>0.078947</td>\n      <td>-0.252193</td>\n    </tr>\n  </tbody>\n</table>\n<p>975 rows × 13 columns</p>\n</div>"
     },
     "execution_count": 70,
     "metadata": {},
     "output_type": "execute_result"
    }
   ],
   "source": [
    "best_model1_model.df"
   ],
   "metadata": {
    "collapsed": false,
    "pycharm": {
     "name": "#%%\n"
    }
   }
  },
  {
   "cell_type": "code",
   "execution_count": 71,
   "outputs": [
    {
     "data": {
      "text/plain": "-1.9900067062746172"
     },
     "execution_count": 71,
     "metadata": {},
     "output_type": "execute_result"
    }
   ],
   "source": [
    "FoF_true = best_model1_model.df[\"FoF\"]\n",
    "FoF_pred = best_model1_model.df[\"model1_FoF\"]\n",
    "\n",
    "r2_score(FoF_true, FoF_pred)"
   ],
   "metadata": {
    "collapsed": false,
    "pycharm": {
     "name": "#%%\n"
    }
   }
  },
  {
   "cell_type": "markdown",
   "source": [
    "R^2 of best Affinity Model 2021"
   ],
   "metadata": {
    "collapsed": false
   }
  },
  {
   "cell_type": "code",
   "execution_count": 72,
   "outputs": [],
   "source": [
    "best_affinity_model = AffinityModel(jury_or_televoting=\"T\", year=2021, mu=-0.06, sigma=0.0, alpha=0.5)\n",
    "\n",
    "best_affinity_model.step()"
   ],
   "metadata": {
    "collapsed": false,
    "pycharm": {
     "name": "#%%\n"
    }
   }
  },
  {
   "cell_type": "code",
   "execution_count": 73,
   "outputs": [
    {
     "data": {
      "text/plain": "       Unnamed: 0  Unnamed: 0.1  Year semi_or_final Edition  \\\n50820       50820         50820  2021             f   2021f   \n50821       50821         50821  2021             f   2021f   \n50822       50822         50822  2021             f   2021f   \n50823       50823         50823  2021             f   2021f   \n50824       50824         50824  2021             f   2021f   \n...           ...           ...   ...           ...     ...   \n51803       51803         51803  2021             f   2021f   \n51804       51804         51804  2021             f   2021f   \n51805       51805         51805  2021             f   2021f   \n51806       51806         51806  2021             f   2021f   \n51807       51807         51807  2021             f   2021f   \n\n      jury_or_televoting             from              to  points Duplicate  \\\n50820                  T        Australia         Albania       0       NaN   \n50821                  T          Austria         Albania       0       NaN   \n50822                  T       Azerbaijan         Albania       0       NaN   \n50823                  T          Belgium         Albania       0       NaN   \n50824                  T         Bulgaria         Albania       0       NaN   \n...                  ...              ...             ...     ...       ...   \n51803                  T            Spain  United Kingdom       0       NaN   \n51804                  T           Sweden  United Kingdom       0       NaN   \n51805                  T      Switzerland  United Kingdom       0       NaN   \n51806                  T  The Netherlands  United Kingdom       0       NaN   \n51807                  T          Ukraine  United Kingdom       0       NaN   \n\n       affinity_model_points  relative_score       FoF  affinity_model_FoF  \n50820                      0             0.0 -0.078829           -0.211712  \n50821                      1             0.0 -0.078829           -0.126126  \n50822                     10             0.0 -0.078829            0.644144  \n50823                      0             0.0 -0.078829           -0.211712  \n50824                      0             0.0 -0.078829           -0.211712  \n...                      ...             ...       ...                 ...  \n51803                      0             0.0  0.000000           -0.204955  \n51804                     12             0.0  0.000000            0.822072  \n51805                      0             0.0  0.000000           -0.204955  \n51806                      0             0.0  0.000000           -0.204955  \n51807                      6             0.0  0.000000            0.308559  \n\n[988 rows x 14 columns]",
      "text/html": "<div>\n<style scoped>\n    .dataframe tbody tr th:only-of-type {\n        vertical-align: middle;\n    }\n\n    .dataframe tbody tr th {\n        vertical-align: top;\n    }\n\n    .dataframe thead th {\n        text-align: right;\n    }\n</style>\n<table border=\"1\" class=\"dataframe\">\n  <thead>\n    <tr style=\"text-align: right;\">\n      <th></th>\n      <th>Unnamed: 0</th>\n      <th>Unnamed: 0.1</th>\n      <th>Year</th>\n      <th>semi_or_final</th>\n      <th>Edition</th>\n      <th>jury_or_televoting</th>\n      <th>from</th>\n      <th>to</th>\n      <th>points</th>\n      <th>Duplicate</th>\n      <th>affinity_model_points</th>\n      <th>relative_score</th>\n      <th>FoF</th>\n      <th>affinity_model_FoF</th>\n    </tr>\n  </thead>\n  <tbody>\n    <tr>\n      <th>50820</th>\n      <td>50820</td>\n      <td>50820</td>\n      <td>2021</td>\n      <td>f</td>\n      <td>2021f</td>\n      <td>T</td>\n      <td>Australia</td>\n      <td>Albania</td>\n      <td>0</td>\n      <td>NaN</td>\n      <td>0</td>\n      <td>0.0</td>\n      <td>-0.078829</td>\n      <td>-0.211712</td>\n    </tr>\n    <tr>\n      <th>50821</th>\n      <td>50821</td>\n      <td>50821</td>\n      <td>2021</td>\n      <td>f</td>\n      <td>2021f</td>\n      <td>T</td>\n      <td>Austria</td>\n      <td>Albania</td>\n      <td>0</td>\n      <td>NaN</td>\n      <td>1</td>\n      <td>0.0</td>\n      <td>-0.078829</td>\n      <td>-0.126126</td>\n    </tr>\n    <tr>\n      <th>50822</th>\n      <td>50822</td>\n      <td>50822</td>\n      <td>2021</td>\n      <td>f</td>\n      <td>2021f</td>\n      <td>T</td>\n      <td>Azerbaijan</td>\n      <td>Albania</td>\n      <td>0</td>\n      <td>NaN</td>\n      <td>10</td>\n      <td>0.0</td>\n      <td>-0.078829</td>\n      <td>0.644144</td>\n    </tr>\n    <tr>\n      <th>50823</th>\n      <td>50823</td>\n      <td>50823</td>\n      <td>2021</td>\n      <td>f</td>\n      <td>2021f</td>\n      <td>T</td>\n      <td>Belgium</td>\n      <td>Albania</td>\n      <td>0</td>\n      <td>NaN</td>\n      <td>0</td>\n      <td>0.0</td>\n      <td>-0.078829</td>\n      <td>-0.211712</td>\n    </tr>\n    <tr>\n      <th>50824</th>\n      <td>50824</td>\n      <td>50824</td>\n      <td>2021</td>\n      <td>f</td>\n      <td>2021f</td>\n      <td>T</td>\n      <td>Bulgaria</td>\n      <td>Albania</td>\n      <td>0</td>\n      <td>NaN</td>\n      <td>0</td>\n      <td>0.0</td>\n      <td>-0.078829</td>\n      <td>-0.211712</td>\n    </tr>\n    <tr>\n      <th>...</th>\n      <td>...</td>\n      <td>...</td>\n      <td>...</td>\n      <td>...</td>\n      <td>...</td>\n      <td>...</td>\n      <td>...</td>\n      <td>...</td>\n      <td>...</td>\n      <td>...</td>\n      <td>...</td>\n      <td>...</td>\n      <td>...</td>\n      <td>...</td>\n    </tr>\n    <tr>\n      <th>51803</th>\n      <td>51803</td>\n      <td>51803</td>\n      <td>2021</td>\n      <td>f</td>\n      <td>2021f</td>\n      <td>T</td>\n      <td>Spain</td>\n      <td>United Kingdom</td>\n      <td>0</td>\n      <td>NaN</td>\n      <td>0</td>\n      <td>0.0</td>\n      <td>0.000000</td>\n      <td>-0.204955</td>\n    </tr>\n    <tr>\n      <th>51804</th>\n      <td>51804</td>\n      <td>51804</td>\n      <td>2021</td>\n      <td>f</td>\n      <td>2021f</td>\n      <td>T</td>\n      <td>Sweden</td>\n      <td>United Kingdom</td>\n      <td>0</td>\n      <td>NaN</td>\n      <td>12</td>\n      <td>0.0</td>\n      <td>0.000000</td>\n      <td>0.822072</td>\n    </tr>\n    <tr>\n      <th>51805</th>\n      <td>51805</td>\n      <td>51805</td>\n      <td>2021</td>\n      <td>f</td>\n      <td>2021f</td>\n      <td>T</td>\n      <td>Switzerland</td>\n      <td>United Kingdom</td>\n      <td>0</td>\n      <td>NaN</td>\n      <td>0</td>\n      <td>0.0</td>\n      <td>0.000000</td>\n      <td>-0.204955</td>\n    </tr>\n    <tr>\n      <th>51806</th>\n      <td>51806</td>\n      <td>51806</td>\n      <td>2021</td>\n      <td>f</td>\n      <td>2021f</td>\n      <td>T</td>\n      <td>The Netherlands</td>\n      <td>United Kingdom</td>\n      <td>0</td>\n      <td>NaN</td>\n      <td>0</td>\n      <td>0.0</td>\n      <td>0.000000</td>\n      <td>-0.204955</td>\n    </tr>\n    <tr>\n      <th>51807</th>\n      <td>51807</td>\n      <td>51807</td>\n      <td>2021</td>\n      <td>f</td>\n      <td>2021f</td>\n      <td>T</td>\n      <td>Ukraine</td>\n      <td>United Kingdom</td>\n      <td>0</td>\n      <td>NaN</td>\n      <td>6</td>\n      <td>0.0</td>\n      <td>0.000000</td>\n      <td>0.308559</td>\n    </tr>\n  </tbody>\n</table>\n<p>988 rows × 14 columns</p>\n</div>"
     },
     "execution_count": 73,
     "metadata": {},
     "output_type": "execute_result"
    }
   ],
   "source": [
    "best_affinity_model.df"
   ],
   "metadata": {
    "collapsed": false,
    "pycharm": {
     "name": "#%%\n"
    }
   }
  },
  {
   "cell_type": "code",
   "execution_count": 74,
   "outputs": [
    {
     "data": {
      "text/plain": "-1.8531723907225688"
     },
     "execution_count": 74,
     "metadata": {},
     "output_type": "execute_result"
    }
   ],
   "source": [
    "FoF_true = best_affinity_model.df[\"FoF\"]\n",
    "FoF_pred = best_affinity_model.df[\"affinity_model_FoF\"]\n",
    "\n",
    "r2_score(FoF_true, FoF_pred)"
   ],
   "metadata": {
    "collapsed": false,
    "pycharm": {
     "name": "#%%\n"
    }
   }
  },
  {
   "cell_type": "markdown",
   "source": [
    "R^2 of best Affinity Model 2022"
   ],
   "metadata": {
    "collapsed": false
   }
  },
  {
   "cell_type": "code",
   "execution_count": 75,
   "outputs": [
    {
     "data": {
      "text/plain": "       Unnamed: 0  Unnamed: 0.1  Year semi_or_final Edition  \\\n54387       54387         54387  2022             f   2022f   \n54388       54388         54388  2022             f   2022f   \n54389       54389         54389  2022             f   2022f   \n54390       54390         54390  2022             f   2022f   \n54391       54391         54391  2022             f   2022f   \n...           ...           ...   ...           ...     ...   \n56307       56307         56307  2022             f   2022f   \n56308       56308         56308  2022             f   2022f   \n56309       56309         56309  2022             f   2022f   \n56310       56310         56310  2022             f   2022f   \n56311       56311         56311  2022             f   2022f   \n\n      jury_or_televoting            from              to  points Duplicate  \\\n54387                  T         Albania         Armenia       0       NaN   \n54388                  T         Albania       Australia       0       NaN   \n54389                  T         Albania      Azerbaijan       0       NaN   \n54390                  T         Albania         Belgium       0       NaN   \n54391                  T         Albania  Czech Republic       0       NaN   \n...                  ...             ...             ...     ...       ...   \n56307                  T  United Kingdom          Serbia       1       NaN   \n56308                  T  United Kingdom           Spain       5       NaN   \n56309                  T  United Kingdom          Sweden       4       NaN   \n56310                  T  United Kingdom     Switzerland       0       NaN   \n56311                  T  United Kingdom         Ukraine      12       NaN   \n\n       affinity_model_points  relative_score       FoF  affinity_model_FoF  \n54387                      0        0.000000 -0.046053           -0.236842  \n54388                     12        0.000000 -0.004386            0.813596  \n54389                      0        0.000000 -0.006579           -0.179825  \n54390                      0        0.000000 -0.010965           -0.239035  \n54391                      0        0.000000 -0.010965           -0.223684  \n...                      ...             ...       ...                 ...  \n56307                      0        0.000442 -0.407895           -0.188596  \n56308                      0        0.002210 -0.050439           -0.122807  \n56309                      6        0.001768 -0.050439            0.265351  \n56310                      8        0.000000  0.000000            0.482456  \n56311                      0        0.005305  0.078947           -0.223684  \n\n[975 rows x 14 columns]",
      "text/html": "<div>\n<style scoped>\n    .dataframe tbody tr th:only-of-type {\n        vertical-align: middle;\n    }\n\n    .dataframe tbody tr th {\n        vertical-align: top;\n    }\n\n    .dataframe thead th {\n        text-align: right;\n    }\n</style>\n<table border=\"1\" class=\"dataframe\">\n  <thead>\n    <tr style=\"text-align: right;\">\n      <th></th>\n      <th>Unnamed: 0</th>\n      <th>Unnamed: 0.1</th>\n      <th>Year</th>\n      <th>semi_or_final</th>\n      <th>Edition</th>\n      <th>jury_or_televoting</th>\n      <th>from</th>\n      <th>to</th>\n      <th>points</th>\n      <th>Duplicate</th>\n      <th>affinity_model_points</th>\n      <th>relative_score</th>\n      <th>FoF</th>\n      <th>affinity_model_FoF</th>\n    </tr>\n  </thead>\n  <tbody>\n    <tr>\n      <th>54387</th>\n      <td>54387</td>\n      <td>54387</td>\n      <td>2022</td>\n      <td>f</td>\n      <td>2022f</td>\n      <td>T</td>\n      <td>Albania</td>\n      <td>Armenia</td>\n      <td>0</td>\n      <td>NaN</td>\n      <td>0</td>\n      <td>0.000000</td>\n      <td>-0.046053</td>\n      <td>-0.236842</td>\n    </tr>\n    <tr>\n      <th>54388</th>\n      <td>54388</td>\n      <td>54388</td>\n      <td>2022</td>\n      <td>f</td>\n      <td>2022f</td>\n      <td>T</td>\n      <td>Albania</td>\n      <td>Australia</td>\n      <td>0</td>\n      <td>NaN</td>\n      <td>12</td>\n      <td>0.000000</td>\n      <td>-0.004386</td>\n      <td>0.813596</td>\n    </tr>\n    <tr>\n      <th>54389</th>\n      <td>54389</td>\n      <td>54389</td>\n      <td>2022</td>\n      <td>f</td>\n      <td>2022f</td>\n      <td>T</td>\n      <td>Albania</td>\n      <td>Azerbaijan</td>\n      <td>0</td>\n      <td>NaN</td>\n      <td>0</td>\n      <td>0.000000</td>\n      <td>-0.006579</td>\n      <td>-0.179825</td>\n    </tr>\n    <tr>\n      <th>54390</th>\n      <td>54390</td>\n      <td>54390</td>\n      <td>2022</td>\n      <td>f</td>\n      <td>2022f</td>\n      <td>T</td>\n      <td>Albania</td>\n      <td>Belgium</td>\n      <td>0</td>\n      <td>NaN</td>\n      <td>0</td>\n      <td>0.000000</td>\n      <td>-0.010965</td>\n      <td>-0.239035</td>\n    </tr>\n    <tr>\n      <th>54391</th>\n      <td>54391</td>\n      <td>54391</td>\n      <td>2022</td>\n      <td>f</td>\n      <td>2022f</td>\n      <td>T</td>\n      <td>Albania</td>\n      <td>Czech Republic</td>\n      <td>0</td>\n      <td>NaN</td>\n      <td>0</td>\n      <td>0.000000</td>\n      <td>-0.010965</td>\n      <td>-0.223684</td>\n    </tr>\n    <tr>\n      <th>...</th>\n      <td>...</td>\n      <td>...</td>\n      <td>...</td>\n      <td>...</td>\n      <td>...</td>\n      <td>...</td>\n      <td>...</td>\n      <td>...</td>\n      <td>...</td>\n      <td>...</td>\n      <td>...</td>\n      <td>...</td>\n      <td>...</td>\n      <td>...</td>\n    </tr>\n    <tr>\n      <th>56307</th>\n      <td>56307</td>\n      <td>56307</td>\n      <td>2022</td>\n      <td>f</td>\n      <td>2022f</td>\n      <td>T</td>\n      <td>United Kingdom</td>\n      <td>Serbia</td>\n      <td>1</td>\n      <td>NaN</td>\n      <td>0</td>\n      <td>0.000442</td>\n      <td>-0.407895</td>\n      <td>-0.188596</td>\n    </tr>\n    <tr>\n      <th>56308</th>\n      <td>56308</td>\n      <td>56308</td>\n      <td>2022</td>\n      <td>f</td>\n      <td>2022f</td>\n      <td>T</td>\n      <td>United Kingdom</td>\n      <td>Spain</td>\n      <td>5</td>\n      <td>NaN</td>\n      <td>0</td>\n      <td>0.002210</td>\n      <td>-0.050439</td>\n      <td>-0.122807</td>\n    </tr>\n    <tr>\n      <th>56309</th>\n      <td>56309</td>\n      <td>56309</td>\n      <td>2022</td>\n      <td>f</td>\n      <td>2022f</td>\n      <td>T</td>\n      <td>United Kingdom</td>\n      <td>Sweden</td>\n      <td>4</td>\n      <td>NaN</td>\n      <td>6</td>\n      <td>0.001768</td>\n      <td>-0.050439</td>\n      <td>0.265351</td>\n    </tr>\n    <tr>\n      <th>56310</th>\n      <td>56310</td>\n      <td>56310</td>\n      <td>2022</td>\n      <td>f</td>\n      <td>2022f</td>\n      <td>T</td>\n      <td>United Kingdom</td>\n      <td>Switzerland</td>\n      <td>0</td>\n      <td>NaN</td>\n      <td>8</td>\n      <td>0.000000</td>\n      <td>0.000000</td>\n      <td>0.482456</td>\n    </tr>\n    <tr>\n      <th>56311</th>\n      <td>56311</td>\n      <td>56311</td>\n      <td>2022</td>\n      <td>f</td>\n      <td>2022f</td>\n      <td>T</td>\n      <td>United Kingdom</td>\n      <td>Ukraine</td>\n      <td>12</td>\n      <td>NaN</td>\n      <td>0</td>\n      <td>0.005305</td>\n      <td>0.078947</td>\n      <td>-0.223684</td>\n    </tr>\n  </tbody>\n</table>\n<p>975 rows × 14 columns</p>\n</div>"
     },
     "execution_count": 75,
     "metadata": {},
     "output_type": "execute_result"
    }
   ],
   "source": [
    "best_affinity_model = AffinityModel(jury_or_televoting=\"T\", year=2022, mu=0.05, sigma=0.0, alpha=0.25)\n",
    "\n",
    "best_affinity_model.step()\n",
    "best_affinity_model.df"
   ],
   "metadata": {
    "collapsed": false,
    "pycharm": {
     "name": "#%%\n"
    }
   }
  },
  {
   "cell_type": "code",
   "execution_count": 76,
   "outputs": [
    {
     "data": {
      "text/plain": "-2.4393459965429627"
     },
     "execution_count": 76,
     "metadata": {},
     "output_type": "execute_result"
    }
   ],
   "source": [
    "FoF_true = best_affinity_model.df[\"FoF\"]\n",
    "FoF_pred = best_affinity_model.df[\"affinity_model_FoF\"]\n",
    "\n",
    "r2_score(FoF_true, FoF_pred)"
   ],
   "metadata": {
    "collapsed": false,
    "pycharm": {
     "name": "#%%\n"
    }
   }
  }
 ],
 "metadata": {
  "kernelspec": {
   "name": "python3",
   "language": "python",
   "display_name": "Python 3 (ipykernel)"
  },
  "language_info": {
   "codemirror_mode": {
    "name": "ipython",
    "version": 3
   },
   "file_extension": ".py",
   "mimetype": "text/x-python",
   "name": "python",
   "nbconvert_exporter": "python",
   "pygments_lexer": "ipython3",
   "version": "3.8.13"
  }
 },
 "nbformat": 4,
 "nbformat_minor": 5
}